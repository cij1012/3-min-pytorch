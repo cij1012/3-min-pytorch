{
  "nbformat": 4,
  "nbformat_minor": 0,
  "metadata": {
    "colab": {
      "name": "Untitled29.ipynb",
      "provenance": [],
      "authorship_tag": "ABX9TyPYyUOuAanZz3e8PWGID1U+",
      "include_colab_link": true
    },
    "kernelspec": {
      "name": "python3",
      "display_name": "Python 3"
    },
    "accelerator": "GPU",
    "widgets": {
      "application/vnd.jupyter.widget-state+json": {
        "acc2a7dcd40e4ba98fef5f7567243b13": {
          "model_module": "@jupyter-widgets/controls",
          "model_name": "HBoxModel",
          "state": {
            "_view_name": "HBoxView",
            "_dom_classes": [],
            "_model_name": "HBoxModel",
            "_view_module": "@jupyter-widgets/controls",
            "_model_module_version": "1.5.0",
            "_view_count": null,
            "_view_module_version": "1.5.0",
            "box_style": "",
            "layout": "IPY_MODEL_f9761400b12b46089046afb8e28a7b08",
            "_model_module": "@jupyter-widgets/controls",
            "children": [
              "IPY_MODEL_b5963876160f4d98a50d43cbee1b3eda",
              "IPY_MODEL_d8b0c090fbcd4adeb09af3e044022358"
            ]
          }
        },
        "f9761400b12b46089046afb8e28a7b08": {
          "model_module": "@jupyter-widgets/base",
          "model_name": "LayoutModel",
          "state": {
            "_view_name": "LayoutView",
            "grid_template_rows": null,
            "right": null,
            "justify_content": null,
            "_view_module": "@jupyter-widgets/base",
            "overflow": null,
            "_model_module_version": "1.2.0",
            "_view_count": null,
            "flex_flow": null,
            "width": null,
            "min_width": null,
            "border": null,
            "align_items": null,
            "bottom": null,
            "_model_module": "@jupyter-widgets/base",
            "top": null,
            "grid_column": null,
            "overflow_y": null,
            "overflow_x": null,
            "grid_auto_flow": null,
            "grid_area": null,
            "grid_template_columns": null,
            "flex": null,
            "_model_name": "LayoutModel",
            "justify_items": null,
            "grid_row": null,
            "max_height": null,
            "align_content": null,
            "visibility": null,
            "align_self": null,
            "height": null,
            "min_height": null,
            "padding": null,
            "grid_auto_rows": null,
            "grid_gap": null,
            "max_width": null,
            "order": null,
            "_view_module_version": "1.2.0",
            "grid_template_areas": null,
            "object_position": null,
            "object_fit": null,
            "grid_auto_columns": null,
            "margin": null,
            "display": null,
            "left": null
          }
        },
        "b5963876160f4d98a50d43cbee1b3eda": {
          "model_module": "@jupyter-widgets/controls",
          "model_name": "FloatProgressModel",
          "state": {
            "_view_name": "ProgressView",
            "style": "IPY_MODEL_9d127e68792c467daeeba1cb13aa04bd",
            "_dom_classes": [],
            "description": "",
            "_model_name": "FloatProgressModel",
            "bar_style": "info",
            "max": 1,
            "_view_module": "@jupyter-widgets/controls",
            "_model_module_version": "1.5.0",
            "value": 1,
            "_view_count": null,
            "_view_module_version": "1.5.0",
            "orientation": "horizontal",
            "min": 0,
            "description_tooltip": null,
            "_model_module": "@jupyter-widgets/controls",
            "layout": "IPY_MODEL_1576b673f102477ba00741e5aa31415b"
          }
        },
        "d8b0c090fbcd4adeb09af3e044022358": {
          "model_module": "@jupyter-widgets/controls",
          "model_name": "HTMLModel",
          "state": {
            "_view_name": "HTMLView",
            "style": "IPY_MODEL_f33d29022a66408094e4d083ae0063e7",
            "_dom_classes": [],
            "description": "",
            "_model_name": "HTMLModel",
            "placeholder": "​",
            "_view_module": "@jupyter-widgets/controls",
            "_model_module_version": "1.5.0",
            "value": " 170500096/? [00:21&lt;00:00, 52419323.47it/s]",
            "_view_count": null,
            "_view_module_version": "1.5.0",
            "description_tooltip": null,
            "_model_module": "@jupyter-widgets/controls",
            "layout": "IPY_MODEL_4cbde0789bb548e18dc9fbcd653b0c75"
          }
        },
        "9d127e68792c467daeeba1cb13aa04bd": {
          "model_module": "@jupyter-widgets/controls",
          "model_name": "ProgressStyleModel",
          "state": {
            "_view_name": "StyleView",
            "_model_name": "ProgressStyleModel",
            "description_width": "initial",
            "_view_module": "@jupyter-widgets/base",
            "_model_module_version": "1.5.0",
            "_view_count": null,
            "_view_module_version": "1.2.0",
            "bar_color": null,
            "_model_module": "@jupyter-widgets/controls"
          }
        },
        "1576b673f102477ba00741e5aa31415b": {
          "model_module": "@jupyter-widgets/base",
          "model_name": "LayoutModel",
          "state": {
            "_view_name": "LayoutView",
            "grid_template_rows": null,
            "right": null,
            "justify_content": null,
            "_view_module": "@jupyter-widgets/base",
            "overflow": null,
            "_model_module_version": "1.2.0",
            "_view_count": null,
            "flex_flow": null,
            "width": null,
            "min_width": null,
            "border": null,
            "align_items": null,
            "bottom": null,
            "_model_module": "@jupyter-widgets/base",
            "top": null,
            "grid_column": null,
            "overflow_y": null,
            "overflow_x": null,
            "grid_auto_flow": null,
            "grid_area": null,
            "grid_template_columns": null,
            "flex": null,
            "_model_name": "LayoutModel",
            "justify_items": null,
            "grid_row": null,
            "max_height": null,
            "align_content": null,
            "visibility": null,
            "align_self": null,
            "height": null,
            "min_height": null,
            "padding": null,
            "grid_auto_rows": null,
            "grid_gap": null,
            "max_width": null,
            "order": null,
            "_view_module_version": "1.2.0",
            "grid_template_areas": null,
            "object_position": null,
            "object_fit": null,
            "grid_auto_columns": null,
            "margin": null,
            "display": null,
            "left": null
          }
        },
        "f33d29022a66408094e4d083ae0063e7": {
          "model_module": "@jupyter-widgets/controls",
          "model_name": "DescriptionStyleModel",
          "state": {
            "_view_name": "StyleView",
            "_model_name": "DescriptionStyleModel",
            "description_width": "",
            "_view_module": "@jupyter-widgets/base",
            "_model_module_version": "1.5.0",
            "_view_count": null,
            "_view_module_version": "1.2.0",
            "_model_module": "@jupyter-widgets/controls"
          }
        },
        "4cbde0789bb548e18dc9fbcd653b0c75": {
          "model_module": "@jupyter-widgets/base",
          "model_name": "LayoutModel",
          "state": {
            "_view_name": "LayoutView",
            "grid_template_rows": null,
            "right": null,
            "justify_content": null,
            "_view_module": "@jupyter-widgets/base",
            "overflow": null,
            "_model_module_version": "1.2.0",
            "_view_count": null,
            "flex_flow": null,
            "width": null,
            "min_width": null,
            "border": null,
            "align_items": null,
            "bottom": null,
            "_model_module": "@jupyter-widgets/base",
            "top": null,
            "grid_column": null,
            "overflow_y": null,
            "overflow_x": null,
            "grid_auto_flow": null,
            "grid_area": null,
            "grid_template_columns": null,
            "flex": null,
            "_model_name": "LayoutModel",
            "justify_items": null,
            "grid_row": null,
            "max_height": null,
            "align_content": null,
            "visibility": null,
            "align_self": null,
            "height": null,
            "min_height": null,
            "padding": null,
            "grid_auto_rows": null,
            "grid_gap": null,
            "max_width": null,
            "order": null,
            "_view_module_version": "1.2.0",
            "grid_template_areas": null,
            "object_position": null,
            "object_fit": null,
            "grid_auto_columns": null,
            "margin": null,
            "display": null,
            "left": null
          }
        }
      }
    }
  },
  "cells": [
    {
      "cell_type": "markdown",
      "metadata": {
        "id": "view-in-github",
        "colab_type": "text"
      },
      "source": [
        "<a href=\"https://colab.research.google.com/github/cij1012/3-min-pytorch/blob/main/5.1%20Resnet.ipynb\" target=\"_parent\"><img src=\"https://colab.research.google.com/assets/colab-badge.svg\" alt=\"Open In Colab\"/></a>"
      ]
    },
    {
      "cell_type": "code",
      "metadata": {
        "id": "NXDsYkTGQf6A"
      },
      "source": [
        "import torch\r\n",
        "import torch.nn as nn\r\n",
        "import torch.optim as optim\r\n",
        "import torch.nn.functional as F\r\n",
        "from torchvision import transforms, datasets, models"
      ],
      "execution_count": 10,
      "outputs": []
    },
    {
      "cell_type": "code",
      "metadata": {
        "id": "0nmDIdYdRG0y"
      },
      "source": [
        "device = 'cuda' if torch.cuda.is_available() else 'cpu'\r\n",
        "\r\n",
        "# 랜덤 시드 고정\r\n",
        "torch.manual_seed(777)\r\n",
        "\r\n",
        "# GPU 사용 가능일 경우 랜덤 시드 고정\r\n",
        "if device == 'cuda':\r\n",
        "    torch.cuda.manual_seed_all(777)"
      ],
      "execution_count": 11,
      "outputs": []
    },
    {
      "cell_type": "code",
      "metadata": {
        "id": "-3rbp6_lRK4O"
      },
      "source": [
        "Epochs = 300\r\n",
        "Batch_size = 128"
      ],
      "execution_count": 12,
      "outputs": []
    },
    {
      "cell_type": "code",
      "metadata": {
        "colab": {
          "base_uri": "https://localhost:8080/"
        },
        "id": "AlNiekSkRUu4",
        "outputId": "4a60299a-b565-449f-df37-29191e558b3a"
      },
      "source": [
        "# CIFAR10 데이터셋   32 * 32 * 3(RGB)의 이미지 6만개이상\r\n",
        "\r\n",
        "train_loader = torch.utils.data.DataLoader(\r\n",
        "    datasets.CIFAR10('./.data',\r\n",
        "                   train=True,\r\n",
        "                   download=True,\r\n",
        "                   transform=transforms.Compose([\r\n",
        "                       transforms.RandomCrop(32, padding=4),\r\n",
        "                       transforms.RandomHorizontalFlip(),\r\n",
        "                       transforms.ToTensor(),\r\n",
        "                       transforms.Normalize((0.5, 0.5, 0.5),\r\n",
        "                                            (0.5, 0.5, 0.5))])),\r\n",
        "    batch_size=Batch_size, shuffle=True)\r\n",
        "test_loader = torch.utils.data.DataLoader(\r\n",
        "    datasets.CIFAR10('./.data',\r\n",
        "                   train=False, \r\n",
        "                   transform=transforms.Compose([\r\n",
        "                       transforms.ToTensor(),\r\n",
        "                       transforms.Normalize((0.5, 0.5, 0.5),\r\n",
        "                                            (0.5, 0.5, 0.5))])),\r\n",
        "    batch_size=Batch_size, shuffle=True)"
      ],
      "execution_count": 13,
      "outputs": [
        {
          "output_type": "stream",
          "text": [
            "Files already downloaded and verified\n"
          ],
          "name": "stdout"
        }
      ]
    },
    {
      "cell_type": "code",
      "metadata": {
        "id": "fj7B7ZQilbcb"
      },
      "source": [
        "\r\n",
        "learning_rate = 0.0005\r\n",
        "training_epochs = 50\r\n",
        "batch_size = 256"
      ],
      "execution_count": 19,
      "outputs": []
    },
    {
      "cell_type": "code",
      "metadata": {
        "id": "SEynChbblcE5",
        "outputId": "745cf3f6-370a-4021-8d66-e2e93e648016",
        "colab": {
          "base_uri": "https://localhost:8080/",
          "height": 102,
          "referenced_widgets": [
            "acc2a7dcd40e4ba98fef5f7567243b13",
            "f9761400b12b46089046afb8e28a7b08",
            "b5963876160f4d98a50d43cbee1b3eda",
            "d8b0c090fbcd4adeb09af3e044022358",
            "9d127e68792c467daeeba1cb13aa04bd",
            "1576b673f102477ba00741e5aa31415b",
            "f33d29022a66408094e4d083ae0063e7",
            "4cbde0789bb548e18dc9fbcd653b0c75"
          ]
        }
      },
      "source": [
        "cifar10_train = datasets.CIFAR10(root='cifar10/', # 다운로드 경로 지정\r\n",
        "                          train=True, # True를 지정하면 훈련 데이터로 다운로드\r\n",
        "                          transform=transforms.ToTensor(), # 텐서로 변환\r\n",
        "                          download=True)\r\n",
        "\r\n",
        "cifar10_test = datasets.CIFAR10(root='cifar10/', # 다운로드 경로 지정\r\n",
        "                         train=False, # False를 지정하면 테스트 데이터로 다운로드\r\n",
        "                         transform=transforms.ToTensor(), # 텐서로 변환\r\n",
        "                         download=True)"
      ],
      "execution_count": 21,
      "outputs": [
        {
          "output_type": "stream",
          "text": [
            "Downloading https://www.cs.toronto.edu/~kriz/cifar-10-python.tar.gz to cifar10/cifar-10-python.tar.gz\n"
          ],
          "name": "stdout"
        },
        {
          "output_type": "display_data",
          "data": {
            "application/vnd.jupyter.widget-view+json": {
              "model_id": "acc2a7dcd40e4ba98fef5f7567243b13",
              "version_minor": 0,
              "version_major": 2
            },
            "text/plain": [
              "HBox(children=(FloatProgress(value=1.0, bar_style='info', max=1.0), HTML(value='')))"
            ]
          },
          "metadata": {
            "tags": []
          }
        },
        {
          "output_type": "stream",
          "text": [
            "Extracting cifar10/cifar-10-python.tar.gz to cifar10/\n",
            "Files already downloaded and verified\n"
          ],
          "name": "stdout"
        }
      ]
    },
    {
      "cell_type": "code",
      "metadata": {
        "id": "3sG0DFI-lfBo"
      },
      "source": [
        "data_loader = torch.utils.data.DataLoader(dataset=cifar10_train,\r\n",
        "                                          batch_size=batch_size,\r\n",
        "                                          shuffle=True,\r\n",
        "                                          drop_last=True)\r\n"
      ],
      "execution_count": 22,
      "outputs": []
    },
    {
      "cell_type": "code",
      "metadata": {
        "id": "-F4YuuPcRWS3"
      },
      "source": [
        "# Gradient Vanishing\r\n",
        "\r\n",
        "class SHALLOW_CNN(nn.Module):\r\n",
        "  def __init__(self):\r\n",
        "    super(SHALLOW_CNN, self).__init__()\r\n",
        "    self.layer1 = torch.nn.Sequential(\r\n",
        "        torch.nn.Conv2d(3, 32, kernel_size=3, stride=1, padding=1),\r\n",
        "        torch.nn.ReLU(),\r\n",
        "        torch.nn.MaxPool2d(kernel_size=2, stride=2))\r\n",
        "    self.layer2 = torch.nn.Sequential(\r\n",
        "        torch.nn.Conv2d(32, 64, kernel_size=3, stride=1, padding=1),\r\n",
        "        torch.nn.ReLU(),\r\n",
        "        torch.nn.MaxPool2d(kernel_size=2, stride=2))\r\n",
        "    self.fc = torch.nn.Linear(8 * 8 * 64, 10, bias=True)\r\n",
        "    torch.nn.init.xavier_uniform_(self.fc.weight)\r\n",
        "    \r\n",
        "  def forward(self, x):\r\n",
        "    out = self.layer1(x)\r\n",
        "    out = self.layer2(out)\r\n",
        "    out = out.view(out.size(0), -1)\r\n",
        "    out = self.fc(out)\r\n",
        "    return out"
      ],
      "execution_count": 14,
      "outputs": []
    },
    {
      "cell_type": "code",
      "metadata": {
        "id": "ctyLMVtHbcvs"
      },
      "source": [
        "class CNN(torch.nn.Module):\r\n",
        "\r\n",
        "    def __init__(self,num_layers):\r\n",
        "        super(CNN, self).__init__()\r\n",
        "        self.layer1 = torch.nn.Sequential(\r\n",
        "            torch.nn.Conv2d(3, 32, kernel_size=3, stride=1, padding=1),\r\n",
        "            torch.nn.ReLU(),\r\n",
        "            torch.nn.MaxPool2d(kernel_size=2, stride=2))\r\n",
        "        self.layer2 = torch.nn.Sequential(\r\n",
        "            torch.nn.Conv2d(32, 64, kernel_size=3, stride=1, padding=1),\r\n",
        "            torch.nn.ReLU(),\r\n",
        "            torch.nn.MaxPool2d(kernel_size=2, stride=2))\r\n",
        "        self.layer3 = torch.nn.Sequential(\r\n",
        "            torch.nn.Conv2d(64, 128, kernel_size=3, stride=1, padding=1),\r\n",
        "            torch.nn.ReLU(),\r\n",
        "            torch.nn.MaxPool2d(kernel_size=2, stride=2, padding=1))\r\n",
        "        self.layers = []\r\n",
        "        for _ in range(num_layers):\r\n",
        "            self.layers.append(torch.nn.Conv2d(128, 128, kernel_size=3, stride=1, padding=1))\r\n",
        "            self.layers.append(torch.nn.ReLU())\r\n",
        "        self.layers = torch.nn.Sequential(*self.layers)\r\n",
        "        \r\n",
        "        self.fc = torch.nn.Linear(5 * 5 * 128, 10)\r\n",
        "        torch.nn.init.xavier_uniform_(self.fc.weight)\r\n",
        "\r\n",
        "    def forward(self, x):\r\n",
        "        out = self.layer1(x)\r\n",
        "        out = self.layer2(out)\r\n",
        "        out = self.layer3(out)\r\n",
        "        out = self.layers(out)\r\n",
        "        out = out.view(out.size(0), -1)   # Flatten them for FC\r\n",
        "        out = self.fc(out)\r\n",
        "        return out"
      ],
      "execution_count": 15,
      "outputs": []
    },
    {
      "cell_type": "code",
      "metadata": {
        "id": "UMpPbiVYbeXv"
      },
      "source": [
        "shallow_model = CNN(4).to(device)\r\n",
        "deep_model = CNN(12).to(device)"
      ],
      "execution_count": 16,
      "outputs": []
    },
    {
      "cell_type": "code",
      "metadata": {
        "id": "AAyFE_Ahbge3"
      },
      "source": [
        "criterion = torch.nn.CrossEntropyLoss().to(device)    # 비용 함수에 소프트맥스 함수 포함되어져 있음.\r\n",
        "optimizer = torch.optim.Adam(shallow_model.parameters(), lr=learning_rate)"
      ],
      "execution_count": 28,
      "outputs": []
    },
    {
      "cell_type": "code",
      "metadata": {
        "id": "OzMdKJdwbqrH",
        "outputId": "c05ad0a5-79d6-4d2a-ec22-8ac12a1a1e28",
        "colab": {
          "base_uri": "https://localhost:8080/"
        }
      },
      "source": [
        "total_batch = len(data_loader)\r\n",
        "print('총 배치의 수 : {}'.format(total_batch))\r\n"
      ],
      "execution_count": 23,
      "outputs": [
        {
          "output_type": "stream",
          "text": [
            "총 배치의 수 : 195\n"
          ],
          "name": "stdout"
        }
      ]
    },
    {
      "cell_type": "code",
      "metadata": {
        "id": "NJCyOjG4kICO",
        "outputId": "8f55c9df-2d17-428d-fc1b-f52ef574bdf8",
        "colab": {
          "base_uri": "https://localhost:8080/"
        }
      },
      "source": [
        "shallow_costs = []\r\n",
        "for epoch in range(training_epochs):\r\n",
        "    avg_cost = 0\r\n",
        "\r\n",
        "    for X, Y in data_loader: # 미니 배치 단위로 꺼내온다. X는 미니 배치, Y는 레이블.\r\n",
        "        # image is already size of (28x28), no reshape\r\n",
        "        # label is not one-hot encoded\r\n",
        "        X = X.to(device)\r\n",
        "        Y = Y.to(device)\r\n",
        "\r\n",
        "        optimizer.zero_grad()\r\n",
        "        hypothesis = shallow_model(X)\r\n",
        "        cost = criterion(hypothesis, Y)\r\n",
        "        cost.backward()\r\n",
        "        optimizer.step()\r\n",
        "\r\n",
        "        avg_cost += cost / total_batch\r\n",
        "    shallow_costs.append(avg_cost)\r\n",
        "    if epoch%10==0:\r\n",
        "        print('[Epoch: {:>4}] cost = {:>.9}'.format(epoch + 1, avg_cost))"
      ],
      "execution_count": 29,
      "outputs": [
        {
          "output_type": "stream",
          "text": [
            "[Epoch:    1] cost = 2.30290389\n",
            "[Epoch:   11] cost = 2.30262566\n",
            "[Epoch:   21] cost = 2.30262542\n",
            "[Epoch:   31] cost = 2.30262661\n",
            "[Epoch:   41] cost = 2.30262136\n"
          ],
          "name": "stdout"
        }
      ]
    },
    {
      "cell_type": "code",
      "metadata": {
        "id": "8Nh723OhkH3v"
      },
      "source": [
        "criterion = torch.nn.CrossEntropyLoss().to(device)    # 비용 함수에 소프트맥스 함수 포함되어져 있음.\r\n",
        "optimizer = torch.optim.Adam(deep_model.parameters(), lr=learning_rate)"
      ],
      "execution_count": 32,
      "outputs": []
    },
    {
      "cell_type": "code",
      "metadata": {
        "id": "G3vWY48imYXe",
        "outputId": "a06a26e6-ffc4-4dcb-90be-16be3ed5aa6d",
        "colab": {
          "base_uri": "https://localhost:8080/"
        }
      },
      "source": [
        "deep_costs = []\r\n",
        "for epoch in range(training_epochs):\r\n",
        "    avg_cost = 0\r\n",
        "\r\n",
        "    for X, Y in data_loader: # 미니 배치 단위로 꺼내온다. X는 미니 배치, Y는 레이블.\r\n",
        "        # image is already size of (28x28), no reshape\r\n",
        "        # label is not one-hot encoded\r\n",
        "        X = X.to(device)\r\n",
        "        Y = Y.to(device)\r\n",
        "\r\n",
        "        optimizer.zero_grad()\r\n",
        "        hypothesis = deep_model(X)\r\n",
        "        cost = criterion(hypothesis, Y)\r\n",
        "        cost.backward()\r\n",
        "        optimizer.step()\r\n",
        "\r\n",
        "        avg_cost += cost / total_batch\r\n",
        "    deep_costs.append(avg_cost)\r\n",
        "    if epoch%10==0:\r\n",
        "        print('[Epoch: {:>4}] cost = {:>.9}'.format(epoch + 1, avg_cost))"
      ],
      "execution_count": 33,
      "outputs": [
        {
          "output_type": "stream",
          "text": [
            "[Epoch:    1] cost = 0.0833363086\n",
            "[Epoch:   11] cost = 0.0597491898\n",
            "[Epoch:   21] cost = 0.042409569\n",
            "[Epoch:   31] cost = 0.0382402427\n",
            "[Epoch:   41] cost = 0.037883427\n"
          ],
          "name": "stdout"
        }
      ]
    },
    {
      "cell_type": "code",
      "metadata": {
        "id": "OugXIsUamZmd",
        "outputId": "92db1d8e-94f5-4b38-d006-f36b911ec466",
        "colab": {
          "base_uri": "https://localhost:8080/",
          "height": 264
        }
      },
      "source": [
        "import matplotlib.pyplot as plt\r\n",
        "\r\n",
        "plt.plot(shallow_costs, label = \"shallow model\",c='r')\r\n",
        "plt.plot(deep_costs, label = \"deep model\",c='b')\r\n",
        "plt.legend()\r\n",
        "plt.show()"
      ],
      "execution_count": 34,
      "outputs": [
        {
          "output_type": "display_data",
          "data": {
            "image/png": "[encoded data removed]",
            "text/plain": [
              "<Figure size 432x288 with 1 Axes>"
            ]
          },
          "metadata": {
            "tags": [],
            "needs_background": "light"
          }
        }
      ]
    },
    {
      "cell_type": "code",
      "metadata": {
        "id": "wtPzIjKZmbMI"
      },
      "source": [
        ""
      ],
      "execution_count": null,
      "outputs": []
    }
  ]
}