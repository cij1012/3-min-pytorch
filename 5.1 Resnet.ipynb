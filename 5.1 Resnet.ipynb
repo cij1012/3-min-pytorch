{
  "nbformat": 4,
  "nbformat_minor": 0,
  "metadata": {
    "colab": {
      "name": "Untitled29.ipynb",
      "provenance": [],
      "authorship_tag": "ABX9TyOFsl92F4/nQyBNhGbpBNpP",
      "include_colab_link": true
    },
    "kernelspec": {
      "name": "python3",
      "display_name": "Python 3"
    },
    "accelerator": "GPU"
  },
  "cells": [
    {
      "cell_type": "markdown",
      "metadata": {
        "id": "view-in-github",
        "colab_type": "text"
      },
      "source": [
        "<a href=\"https://colab.research.google.com/github/cij1012/3-min-pytorch/blob/main/5.1%20Resnet.ipynb\" target=\"_parent\"><img src=\"https://colab.research.google.com/assets/colab-badge.svg\" alt=\"Open In Colab\"/></a>"
      ]
    },
    {
      "cell_type": "code",
      "metadata": {
        "id": "NXDsYkTGQf6A"
      },
      "source": [
        "import torch\r\n",
        "import torch.nn as nn\r\n",
        "import torch.optim as optim\r\n",
        "import torch.nn.functional as F\r\n",
        "from torchvision import transforms, datasets, models"
      ],
      "execution_count": 6,
      "outputs": []
    },
    {
      "cell_type": "code",
      "metadata": {
        "id": "0nmDIdYdRG0y"
      },
      "source": [
        "device = 'cuda' if torch.cuda.is_available() else 'cpu'\r\n",
        "\r\n",
        "# 랜덤 시드 고정\r\n",
        "torch.manual_seed(777)\r\n",
        "\r\n",
        "# GPU 사용 가능일 경우 랜덤 시드 고정\r\n",
        "if device == 'cuda':\r\n",
        "    torch.cuda.manual_seed_all(777)"
      ],
      "execution_count": 7,
      "outputs": []
    },
    {
      "cell_type": "code",
      "metadata": {
        "id": "-3rbp6_lRK4O"
      },
      "source": [
        "Epochs = 300\r\n",
        "Batch_size = 128"
      ],
      "execution_count": 8,
      "outputs": []
    },
    {
      "cell_type": "code",
      "metadata": {
        "colab": {
          "base_uri": "https://localhost:8080/"
        },
        "id": "AlNiekSkRUu4",
        "outputId": "eb73de74-8d8b-478b-9b57-ca7dd3c0c4fe"
      },
      "source": [
        "# CIFAR10 데이터셋   32 * 32 * 3(RGB)의 이미지 6만개이상\r\n",
        "\r\n",
        "train_loader = torch.utils.data.DataLoader(\r\n",
        "    datasets.CIFAR10('./.data',\r\n",
        "                   train=True,\r\n",
        "                   download=True,\r\n",
        "                   transform=transforms.Compose([\r\n",
        "                       transforms.RandomCrop(32, padding=4),\r\n",
        "                       transforms.RandomHorizontalFlip(),\r\n",
        "                       transforms.ToTensor(),\r\n",
        "                       transforms.Normalize((0.5, 0.5, 0.5),\r\n",
        "                                            (0.5, 0.5, 0.5))])),\r\n",
        "    batch_size=Batch_size, shuffle=True)\r\n",
        "test_loader = torch.utils.data.DataLoader(\r\n",
        "    datasets.CIFAR10('./.data',\r\n",
        "                   train=False, \r\n",
        "                   transform=transforms.Compose([\r\n",
        "                       transforms.ToTensor(),\r\n",
        "                       transforms.Normalize((0.5, 0.5, 0.5),\r\n",
        "                                            (0.5, 0.5, 0.5))])),\r\n",
        "    batch_size=Batch_size, shuffle=True)"
      ],
      "execution_count": 9,
      "outputs": [
        {
          "output_type": "stream",
          "text": [
            "Files already downloaded and verified\n"
          ],
          "name": "stdout"
        }
      ]
    },
    {
      "cell_type": "code",
      "metadata": {
        "id": "-F4YuuPcRWS3"
      },
      "source": [
        "# Gradient Vanishing\r\n",
        "\r\n",
        "class SHALLOW_CNN(nn.Module):\r\n",
        "  def __init__(self):\r\n",
        "    super(SHALLOW_CNN, self).__init__()\r\n",
        "    "
      ],
      "execution_count": 9,
      "outputs": []
    }
  ]
}