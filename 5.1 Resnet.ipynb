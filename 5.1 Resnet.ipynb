{
  "nbformat": 4,
  "nbformat_minor": 0,
  "metadata": {
    "colab": {
      "name": "Untitled29.ipynb",
      "provenance": [],
      "authorship_tag": "ABX9TyNogJvHWXoEhekKSkYIt7w9",
      "include_colab_link": true
    },
    "kernelspec": {
      "name": "python3",
      "display_name": "Python 3"
    },
    "accelerator": "GPU",
    "widgets": {
      "application/vnd.jupyter.widget-state+json": {
        "957dfa666c854b0984ebc047592e57eb": {
          "model_module": "@jupyter-widgets/controls",
          "model_name": "HBoxModel",
          "state": {
            "_view_name": "HBoxView",
            "_dom_classes": [],
            "_model_name": "HBoxModel",
            "_view_module": "@jupyter-widgets/controls",
            "_model_module_version": "1.5.0",
            "_view_count": null,
            "_view_module_version": "1.5.0",
            "box_style": "",
            "layout": "IPY_MODEL_056fda210fd44e0bb8416dcdaddecccf",
            "_model_module": "@jupyter-widgets/controls",
            "children": [
              "IPY_MODEL_0894d50a44fa486cb4572bbf57b828d8",
              "IPY_MODEL_51e37f2c352a43239a6fc2e830d19abe"
            ]
          }
        },
        "056fda210fd44e0bb8416dcdaddecccf": {
          "model_module": "@jupyter-widgets/base",
          "model_name": "LayoutModel",
          "state": {
            "_view_name": "LayoutView",
            "grid_template_rows": null,
            "right": null,
            "justify_content": null,
            "_view_module": "@jupyter-widgets/base",
            "overflow": null,
            "_model_module_version": "1.2.0",
            "_view_count": null,
            "flex_flow": null,
            "width": null,
            "min_width": null,
            "border": null,
            "align_items": null,
            "bottom": null,
            "_model_module": "@jupyter-widgets/base",
            "top": null,
            "grid_column": null,
            "overflow_y": null,
            "overflow_x": null,
            "grid_auto_flow": null,
            "grid_area": null,
            "grid_template_columns": null,
            "flex": null,
            "_model_name": "LayoutModel",
            "justify_items": null,
            "grid_row": null,
            "max_height": null,
            "align_content": null,
            "visibility": null,
            "align_self": null,
            "height": null,
            "min_height": null,
            "padding": null,
            "grid_auto_rows": null,
            "grid_gap": null,
            "max_width": null,
            "order": null,
            "_view_module_version": "1.2.0",
            "grid_template_areas": null,
            "object_position": null,
            "object_fit": null,
            "grid_auto_columns": null,
            "margin": null,
            "display": null,
            "left": null
          }
        },
        "0894d50a44fa486cb4572bbf57b828d8": {
          "model_module": "@jupyter-widgets/controls",
          "model_name": "FloatProgressModel",
          "state": {
            "_view_name": "ProgressView",
            "style": "IPY_MODEL_a32a8981a6a24416ad78a5cc0f495d2f",
            "_dom_classes": [],
            "description": "",
            "_model_name": "FloatProgressModel",
            "bar_style": "info",
            "max": 1,
            "_view_module": "@jupyter-widgets/controls",
            "_model_module_version": "1.5.0",
            "value": 1,
            "_view_count": null,
            "_view_module_version": "1.5.0",
            "orientation": "horizontal",
            "min": 0,
            "description_tooltip": null,
            "_model_module": "@jupyter-widgets/controls",
            "layout": "IPY_MODEL_ce56f2388c5548669619474f51c01596"
          }
        },
        "51e37f2c352a43239a6fc2e830d19abe": {
          "model_module": "@jupyter-widgets/controls",
          "model_name": "HTMLModel",
          "state": {
            "_view_name": "HTMLView",
            "style": "IPY_MODEL_600c9b70fb10427a8dc0365e8f33bfa3",
            "_dom_classes": [],
            "description": "",
            "_model_name": "HTMLModel",
            "placeholder": "​",
            "_view_module": "@jupyter-widgets/controls",
            "_model_module_version": "1.5.0",
            "value": " 170500096/? [00:19&lt;00:00, 52008702.18it/s]",
            "_view_count": null,
            "_view_module_version": "1.5.0",
            "description_tooltip": null,
            "_model_module": "@jupyter-widgets/controls",
            "layout": "IPY_MODEL_e29aab0711104e92862f1755c52f4287"
          }
        },
        "a32a8981a6a24416ad78a5cc0f495d2f": {
          "model_module": "@jupyter-widgets/controls",
          "model_name": "ProgressStyleModel",
          "state": {
            "_view_name": "StyleView",
            "_model_name": "ProgressStyleModel",
            "description_width": "initial",
            "_view_module": "@jupyter-widgets/base",
            "_model_module_version": "1.5.0",
            "_view_count": null,
            "_view_module_version": "1.2.0",
            "bar_color": null,
            "_model_module": "@jupyter-widgets/controls"
          }
        },
        "ce56f2388c5548669619474f51c01596": {
          "model_module": "@jupyter-widgets/base",
          "model_name": "LayoutModel",
          "state": {
            "_view_name": "LayoutView",
            "grid_template_rows": null,
            "right": null,
            "justify_content": null,
            "_view_module": "@jupyter-widgets/base",
            "overflow": null,
            "_model_module_version": "1.2.0",
            "_view_count": null,
            "flex_flow": null,
            "width": null,
            "min_width": null,
            "border": null,
            "align_items": null,
            "bottom": null,
            "_model_module": "@jupyter-widgets/base",
            "top": null,
            "grid_column": null,
            "overflow_y": null,
            "overflow_x": null,
            "grid_auto_flow": null,
            "grid_area": null,
            "grid_template_columns": null,
            "flex": null,
            "_model_name": "LayoutModel",
            "justify_items": null,
            "grid_row": null,
            "max_height": null,
            "align_content": null,
            "visibility": null,
            "align_self": null,
            "height": null,
            "min_height": null,
            "padding": null,
            "grid_auto_rows": null,
            "grid_gap": null,
            "max_width": null,
            "order": null,
            "_view_module_version": "1.2.0",
            "grid_template_areas": null,
            "object_position": null,
            "object_fit": null,
            "grid_auto_columns": null,
            "margin": null,
            "display": null,
            "left": null
          }
        },
        "600c9b70fb10427a8dc0365e8f33bfa3": {
          "model_module": "@jupyter-widgets/controls",
          "model_name": "DescriptionStyleModel",
          "state": {
            "_view_name": "StyleView",
            "_model_name": "DescriptionStyleModel",
            "description_width": "",
            "_view_module": "@jupyter-widgets/base",
            "_model_module_version": "1.5.0",
            "_view_count": null,
            "_view_module_version": "1.2.0",
            "_model_module": "@jupyter-widgets/controls"
          }
        },
        "e29aab0711104e92862f1755c52f4287": {
          "model_module": "@jupyter-widgets/base",
          "model_name": "LayoutModel",
          "state": {
            "_view_name": "LayoutView",
            "grid_template_rows": null,
            "right": null,
            "justify_content": null,
            "_view_module": "@jupyter-widgets/base",
            "overflow": null,
            "_model_module_version": "1.2.0",
            "_view_count": null,
            "flex_flow": null,
            "width": null,
            "min_width": null,
            "border": null,
            "align_items": null,
            "bottom": null,
            "_model_module": "@jupyter-widgets/base",
            "top": null,
            "grid_column": null,
            "overflow_y": null,
            "overflow_x": null,
            "grid_auto_flow": null,
            "grid_area": null,
            "grid_template_columns": null,
            "flex": null,
            "_model_name": "LayoutModel",
            "justify_items": null,
            "grid_row": null,
            "max_height": null,
            "align_content": null,
            "visibility": null,
            "align_self": null,
            "height": null,
            "min_height": null,
            "padding": null,
            "grid_auto_rows": null,
            "grid_gap": null,
            "max_width": null,
            "order": null,
            "_view_module_version": "1.2.0",
            "grid_template_areas": null,
            "object_position": null,
            "object_fit": null,
            "grid_auto_columns": null,
            "margin": null,
            "display": null,
            "left": null
          }
        },
        "53ad332a9f5747dd8aa57673632a8d71": {
          "model_module": "@jupyter-widgets/controls",
          "model_name": "HBoxModel",
          "state": {
            "_view_name": "HBoxView",
            "_dom_classes": [],
            "_model_name": "HBoxModel",
            "_view_module": "@jupyter-widgets/controls",
            "_model_module_version": "1.5.0",
            "_view_count": null,
            "_view_module_version": "1.5.0",
            "box_style": "",
            "layout": "IPY_MODEL_d9ef49bc5fd349a29db0c4881a2c2832",
            "_model_module": "@jupyter-widgets/controls",
            "children": [
              "IPY_MODEL_b5f423b5e94440ffb31bb9e5078377aa",
              "IPY_MODEL_d4f617f24baf4456851786a9863e9c6a"
            ]
          }
        },
        "d9ef49bc5fd349a29db0c4881a2c2832": {
          "model_module": "@jupyter-widgets/base",
          "model_name": "LayoutModel",
          "state": {
            "_view_name": "LayoutView",
            "grid_template_rows": null,
            "right": null,
            "justify_content": null,
            "_view_module": "@jupyter-widgets/base",
            "overflow": null,
            "_model_module_version": "1.2.0",
            "_view_count": null,
            "flex_flow": null,
            "width": null,
            "min_width": null,
            "border": null,
            "align_items": null,
            "bottom": null,
            "_model_module": "@jupyter-widgets/base",
            "top": null,
            "grid_column": null,
            "overflow_y": null,
            "overflow_x": null,
            "grid_auto_flow": null,
            "grid_area": null,
            "grid_template_columns": null,
            "flex": null,
            "_model_name": "LayoutModel",
            "justify_items": null,
            "grid_row": null,
            "max_height": null,
            "align_content": null,
            "visibility": null,
            "align_self": null,
            "height": null,
            "min_height": null,
            "padding": null,
            "grid_auto_rows": null,
            "grid_gap": null,
            "max_width": null,
            "order": null,
            "_view_module_version": "1.2.0",
            "grid_template_areas": null,
            "object_position": null,
            "object_fit": null,
            "grid_auto_columns": null,
            "margin": null,
            "display": null,
            "left": null
          }
        },
        "b5f423b5e94440ffb31bb9e5078377aa": {
          "model_module": "@jupyter-widgets/controls",
          "model_name": "FloatProgressModel",
          "state": {
            "_view_name": "ProgressView",
            "style": "IPY_MODEL_1f0e1942337d4312b09f30d117cd17e0",
            "_dom_classes": [],
            "description": "",
            "_model_name": "FloatProgressModel",
            "bar_style": "info",
            "max": 1,
            "_view_module": "@jupyter-widgets/controls",
            "_model_module_version": "1.5.0",
            "value": 1,
            "_view_count": null,
            "_view_module_version": "1.5.0",
            "orientation": "horizontal",
            "min": 0,
            "description_tooltip": null,
            "_model_module": "@jupyter-widgets/controls",
            "layout": "IPY_MODEL_46b0e115f72943c7a551b8fb86edc9c2"
          }
        },
        "d4f617f24baf4456851786a9863e9c6a": {
          "model_module": "@jupyter-widgets/controls",
          "model_name": "HTMLModel",
          "state": {
            "_view_name": "HTMLView",
            "style": "IPY_MODEL_9e0880d57da54536939f51f2655f7f55",
            "_dom_classes": [],
            "description": "",
            "_model_name": "HTMLModel",
            "placeholder": "​",
            "_view_module": "@jupyter-widgets/controls",
            "_model_module_version": "1.5.0",
            "value": " 170500096/? [00:23&lt;00:00, 52455099.58it/s]",
            "_view_count": null,
            "_view_module_version": "1.5.0",
            "description_tooltip": null,
            "_model_module": "@jupyter-widgets/controls",
            "layout": "IPY_MODEL_cf75a62a282b46e9889d16d0600d9251"
          }
        },
        "1f0e1942337d4312b09f30d117cd17e0": {
          "model_module": "@jupyter-widgets/controls",
          "model_name": "ProgressStyleModel",
          "state": {
            "_view_name": "StyleView",
            "_model_name": "ProgressStyleModel",
            "description_width": "initial",
            "_view_module": "@jupyter-widgets/base",
            "_model_module_version": "1.5.0",
            "_view_count": null,
            "_view_module_version": "1.2.0",
            "bar_color": null,
            "_model_module": "@jupyter-widgets/controls"
          }
        },
        "46b0e115f72943c7a551b8fb86edc9c2": {
          "model_module": "@jupyter-widgets/base",
          "model_name": "LayoutModel",
          "state": {
            "_view_name": "LayoutView",
            "grid_template_rows": null,
            "right": null,
            "justify_content": null,
            "_view_module": "@jupyter-widgets/base",
            "overflow": null,
            "_model_module_version": "1.2.0",
            "_view_count": null,
            "flex_flow": null,
            "width": null,
            "min_width": null,
            "border": null,
            "align_items": null,
            "bottom": null,
            "_model_module": "@jupyter-widgets/base",
            "top": null,
            "grid_column": null,
            "overflow_y": null,
            "overflow_x": null,
            "grid_auto_flow": null,
            "grid_area": null,
            "grid_template_columns": null,
            "flex": null,
            "_model_name": "LayoutModel",
            "justify_items": null,
            "grid_row": null,
            "max_height": null,
            "align_content": null,
            "visibility": null,
            "align_self": null,
            "height": null,
            "min_height": null,
            "padding": null,
            "grid_auto_rows": null,
            "grid_gap": null,
            "max_width": null,
            "order": null,
            "_view_module_version": "1.2.0",
            "grid_template_areas": null,
            "object_position": null,
            "object_fit": null,
            "grid_auto_columns": null,
            "margin": null,
            "display": null,
            "left": null
          }
        },
        "9e0880d57da54536939f51f2655f7f55": {
          "model_module": "@jupyter-widgets/controls",
          "model_name": "DescriptionStyleModel",
          "state": {
            "_view_name": "StyleView",
            "_model_name": "DescriptionStyleModel",
            "description_width": "",
            "_view_module": "@jupyter-widgets/base",
            "_model_module_version": "1.5.0",
            "_view_count": null,
            "_view_module_version": "1.2.0",
            "_model_module": "@jupyter-widgets/controls"
          }
        },
        "cf75a62a282b46e9889d16d0600d9251": {
          "model_module": "@jupyter-widgets/base",
          "model_name": "LayoutModel",
          "state": {
            "_view_name": "LayoutView",
            "grid_template_rows": null,
            "right": null,
            "justify_content": null,
            "_view_module": "@jupyter-widgets/base",
            "overflow": null,
            "_model_module_version": "1.2.0",
            "_view_count": null,
            "flex_flow": null,
            "width": null,
            "min_width": null,
            "border": null,
            "align_items": null,
            "bottom": null,
            "_model_module": "@jupyter-widgets/base",
            "top": null,
            "grid_column": null,
            "overflow_y": null,
            "overflow_x": null,
            "grid_auto_flow": null,
            "grid_area": null,
            "grid_template_columns": null,
            "flex": null,
            "_model_name": "LayoutModel",
            "justify_items": null,
            "grid_row": null,
            "max_height": null,
            "align_content": null,
            "visibility": null,
            "align_self": null,
            "height": null,
            "min_height": null,
            "padding": null,
            "grid_auto_rows": null,
            "grid_gap": null,
            "max_width": null,
            "order": null,
            "_view_module_version": "1.2.0",
            "grid_template_areas": null,
            "object_position": null,
            "object_fit": null,
            "grid_auto_columns": null,
            "margin": null,
            "display": null,
            "left": null
          }
        }
      }
    }
  },
  "cells": [
    {
      "cell_type": "markdown",
      "metadata": {
        "id": "view-in-github",
        "colab_type": "text"
      },
      "source": [
        "<a href=\"https://colab.research.google.com/github/cij1012/3-min-pytorch/blob/main/5.1%20Resnet.ipynb\" target=\"_parent\"><img src=\"https://colab.research.google.com/assets/colab-badge.svg\" alt=\"Open In Colab\"/></a>"
      ]
    },
    {
      "cell_type": "code",
      "metadata": {
        "id": "NXDsYkTGQf6A"
      },
      "source": [
        "import torch\r\n",
        "import torch.nn as nn\r\n",
        "import torch.optim as optim\r\n",
        "import torch.nn.functional as F\r\n",
        "from torchvision import transforms, datasets, models"
      ],
      "execution_count": 1,
      "outputs": []
    },
    {
      "cell_type": "code",
      "metadata": {
        "id": "0nmDIdYdRG0y"
      },
      "source": [
        "device = 'cuda' if torch.cuda.is_available() else 'cpu'\r\n",
        "\r\n",
        "# 랜덤 시드 고정\r\n",
        "torch.manual_seed(777)\r\n",
        "\r\n",
        "# GPU 사용 가능일 경우 랜덤 시드 고정\r\n",
        "if device == 'cuda':\r\n",
        "    torch.cuda.manual_seed_all(777)"
      ],
      "execution_count": 2,
      "outputs": []
    },
    {
      "cell_type": "code",
      "metadata": {
        "id": "-3rbp6_lRK4O"
      },
      "source": [
        "Epochs = 300\r\n",
        "Batch_size = 128"
      ],
      "execution_count": 3,
      "outputs": []
    },
    {
      "cell_type": "code",
      "metadata": {
        "colab": {
          "base_uri": "https://localhost:8080/",
          "height": 84,
          "referenced_widgets": [
            "957dfa666c854b0984ebc047592e57eb",
            "056fda210fd44e0bb8416dcdaddecccf",
            "0894d50a44fa486cb4572bbf57b828d8",
            "51e37f2c352a43239a6fc2e830d19abe",
            "a32a8981a6a24416ad78a5cc0f495d2f",
            "ce56f2388c5548669619474f51c01596",
            "600c9b70fb10427a8dc0365e8f33bfa3",
            "e29aab0711104e92862f1755c52f4287"
          ]
        },
        "id": "AlNiekSkRUu4",
        "outputId": "beffe846-cf3b-402f-ffff-8f48fd2cd361"
      },
      "source": [
        "# CIFAR10 데이터셋   32 * 32 * 3(RGB)의 이미지 6만개이상\r\n",
        "\r\n",
        "train_loader = torch.utils.data.DataLoader(\r\n",
        "    datasets.CIFAR10('./.data',\r\n",
        "                   train=True,\r\n",
        "                   download=True,\r\n",
        "                   transform=transforms.Compose([\r\n",
        "                       transforms.RandomCrop(32, padding=4),\r\n",
        "                       transforms.RandomHorizontalFlip(),\r\n",
        "                       transforms.ToTensor(),\r\n",
        "                       transforms.Normalize((0.5, 0.5, 0.5),\r\n",
        "                                            (0.5, 0.5, 0.5))])),\r\n",
        "    batch_size=Batch_size, shuffle=True)\r\n",
        "test_loader = torch.utils.data.DataLoader(\r\n",
        "    datasets.CIFAR10('./.data',\r\n",
        "                   train=False, \r\n",
        "                   transform=transforms.Compose([\r\n",
        "                       transforms.ToTensor(),\r\n",
        "                       transforms.Normalize((0.5, 0.5, 0.5),\r\n",
        "                                            (0.5, 0.5, 0.5))])),\r\n",
        "    batch_size=Batch_size, shuffle=True)"
      ],
      "execution_count": 4,
      "outputs": [
        {
          "output_type": "stream",
          "text": [
            "Downloading https://www.cs.toronto.edu/~kriz/cifar-10-python.tar.gz to ./.data/cifar-10-python.tar.gz\n"
          ],
          "name": "stdout"
        },
        {
          "output_type": "display_data",
          "data": {
            "application/vnd.jupyter.widget-view+json": {
              "model_id": "957dfa666c854b0984ebc047592e57eb",
              "version_minor": 0,
              "version_major": 2
            },
            "text/plain": [
              "HBox(children=(FloatProgress(value=1.0, bar_style='info', max=1.0), HTML(value='')))"
            ]
          },
          "metadata": {
            "tags": []
          }
        },
        {
          "output_type": "stream",
          "text": [
            "Extracting ./.data/cifar-10-python.tar.gz to ./.data\n"
          ],
          "name": "stdout"
        }
      ]
    },
    {
      "cell_type": "code",
      "metadata": {
        "id": "fj7B7ZQilbcb"
      },
      "source": [
        "\r\n",
        "learning_rate = 0.0005\r\n",
        "training_epochs = 50\r\n",
        "batch_size = 256"
      ],
      "execution_count": 5,
      "outputs": []
    },
    {
      "cell_type": "code",
      "metadata": {
        "id": "SEynChbblcE5",
        "colab": {
          "base_uri": "https://localhost:8080/",
          "height": 102,
          "referenced_widgets": [
            "53ad332a9f5747dd8aa57673632a8d71",
            "d9ef49bc5fd349a29db0c4881a2c2832",
            "b5f423b5e94440ffb31bb9e5078377aa",
            "d4f617f24baf4456851786a9863e9c6a",
            "1f0e1942337d4312b09f30d117cd17e0",
            "46b0e115f72943c7a551b8fb86edc9c2",
            "9e0880d57da54536939f51f2655f7f55",
            "cf75a62a282b46e9889d16d0600d9251"
          ]
        },
        "outputId": "d9645364-f68e-48fe-f592-b6be0f473a41"
      },
      "source": [
        "cifar10_train = datasets.CIFAR10(root='cifar10/', # 다운로드 경로 지정\r\n",
        "                          train=True, # True를 지정하면 훈련 데이터로 다운로드\r\n",
        "                          transform=transforms.ToTensor(), # 텐서로 변환\r\n",
        "                          download=True)\r\n",
        "\r\n",
        "cifar10_test = datasets.CIFAR10(root='cifar10/', # 다운로드 경로 지정\r\n",
        "                         train=False, # False를 지정하면 테스트 데이터로 다운로드\r\n",
        "                         transform=transforms.ToTensor(), # 텐서로 변환\r\n",
        "                         download=True)"
      ],
      "execution_count": 6,
      "outputs": [
        {
          "output_type": "stream",
          "text": [
            "Downloading https://www.cs.toronto.edu/~kriz/cifar-10-python.tar.gz to cifar10/cifar-10-python.tar.gz\n"
          ],
          "name": "stdout"
        },
        {
          "output_type": "display_data",
          "data": {
            "application/vnd.jupyter.widget-view+json": {
              "model_id": "53ad332a9f5747dd8aa57673632a8d71",
              "version_minor": 0,
              "version_major": 2
            },
            "text/plain": [
              "HBox(children=(FloatProgress(value=1.0, bar_style='info', max=1.0), HTML(value='')))"
            ]
          },
          "metadata": {
            "tags": []
          }
        },
        {
          "output_type": "stream",
          "text": [
            "Extracting cifar10/cifar-10-python.tar.gz to cifar10/\n",
            "Files already downloaded and verified\n"
          ],
          "name": "stdout"
        }
      ]
    },
    {
      "cell_type": "code",
      "metadata": {
        "id": "3sG0DFI-lfBo"
      },
      "source": [
        "data_loader = torch.utils.data.DataLoader(dataset=cifar10_train,\r\n",
        "                                          batch_size=batch_size,\r\n",
        "                                          shuffle=True,\r\n",
        "                                          drop_last=True)\r\n"
      ],
      "execution_count": 7,
      "outputs": []
    },
    {
      "cell_type": "code",
      "metadata": {
        "id": "-F4YuuPcRWS3"
      },
      "source": [
        "# Gradient Vanishing\r\n",
        "\r\n",
        "class SHALLOW_CNN(nn.Module):\r\n",
        "  def __init__(self):\r\n",
        "    super(SHALLOW_CNN, self).__init__()\r\n",
        "    self.layer1 = torch.nn.Sequential(\r\n",
        "        torch.nn.Conv2d(3, 32, kernel_size=3, stride=1, padding=1),\r\n",
        "        torch.nn.ReLU(),\r\n",
        "        torch.nn.MaxPool2d(kernel_size=2, stride=2))\r\n",
        "    self.layer2 = torch.nn.Sequential(\r\n",
        "        torch.nn.Conv2d(32, 64, kernel_size=3, stride=1, padding=1),\r\n",
        "        torch.nn.ReLU(),\r\n",
        "        torch.nn.MaxPool2d(kernel_size=2, stride=2))\r\n",
        "    self.fc = torch.nn.Linear(8 * 8 * 64, 10, bias=True)\r\n",
        "    torch.nn.init.xavier_uniform_(self.fc.weight)\r\n",
        "    \r\n",
        "  def forward(self, x):\r\n",
        "    out = self.layer1(x)\r\n",
        "    out = self.layer2(out)\r\n",
        "    out = out.view(out.size(0), -1)\r\n",
        "    out = self.fc(out)\r\n",
        "    return out"
      ],
      "execution_count": 8,
      "outputs": []
    },
    {
      "cell_type": "code",
      "metadata": {
        "id": "ctyLMVtHbcvs"
      },
      "source": [
        "class CNN(torch.nn.Module):\r\n",
        "\r\n",
        "    def __init__(self,num_layers):\r\n",
        "        super(CNN, self).__init__()\r\n",
        "        self.layer1 = torch.nn.Sequential(\r\n",
        "            torch.nn.Conv2d(3, 32, kernel_size=3, stride=1, padding=1),\r\n",
        "            torch.nn.ReLU(),\r\n",
        "            torch.nn.MaxPool2d(kernel_size=2, stride=2))\r\n",
        "        self.layer2 = torch.nn.Sequential(\r\n",
        "            torch.nn.Conv2d(32, 64, kernel_size=3, stride=1, padding=1),\r\n",
        "            torch.nn.ReLU(),\r\n",
        "            torch.nn.MaxPool2d(kernel_size=2, stride=2))\r\n",
        "        self.layer3 = torch.nn.Sequential(\r\n",
        "            torch.nn.Conv2d(64, 128, kernel_size=3, stride=1, padding=1),\r\n",
        "            torch.nn.ReLU(),\r\n",
        "            torch.nn.MaxPool2d(kernel_size=2, stride=2, padding=1))\r\n",
        "        self.layers = []\r\n",
        "        for _ in range(num_layers):\r\n",
        "            self.layers.append(torch.nn.Conv2d(128, 128, kernel_size=3, stride=1, padding=1))\r\n",
        "            self.layers.append(torch.nn.ReLU())\r\n",
        "        self.layers = torch.nn.Sequential(*self.layers)\r\n",
        "        \r\n",
        "        self.fc = torch.nn.Linear(5 * 5 * 128, 10)\r\n",
        "        torch.nn.init.xavier_uniform_(self.fc.weight)\r\n",
        "\r\n",
        "    def forward(self, x):\r\n",
        "        out = self.layer1(x)\r\n",
        "        out = self.layer2(out)\r\n",
        "        out = self.layer3(out)\r\n",
        "        out = self.layers(out)\r\n",
        "        out = out.view(out.size(0), -1)   # Flatten them for FC\r\n",
        "        out = self.fc(out)\r\n",
        "        return out"
      ],
      "execution_count": 9,
      "outputs": []
    },
    {
      "cell_type": "code",
      "metadata": {
        "id": "UMpPbiVYbeXv"
      },
      "source": [
        "shallow_model = CNN(4).to(device)\r\n",
        "deep_model = CNN(12).to(device)"
      ],
      "execution_count": 10,
      "outputs": []
    },
    {
      "cell_type": "code",
      "metadata": {
        "id": "AAyFE_Ahbge3"
      },
      "source": [
        "criterion = torch.nn.CrossEntropyLoss().to(device)    # 비용 함수에 소프트맥스 함수 포함되어져 있음.\r\n",
        "optimizer = torch.optim.Adam(shallow_model.parameters(), lr=learning_rate)"
      ],
      "execution_count": 11,
      "outputs": []
    },
    {
      "cell_type": "code",
      "metadata": {
        "id": "OzMdKJdwbqrH",
        "colab": {
          "base_uri": "https://localhost:8080/"
        },
        "outputId": "049f3723-1140-442d-9508-e9d3e400abea"
      },
      "source": [
        "total_batch = len(data_loader)\r\n",
        "print('총 배치의 수 : {}'.format(total_batch))\r\n"
      ],
      "execution_count": 12,
      "outputs": [
        {
          "output_type": "stream",
          "text": [
            "총 배치의 수 : 195\n"
          ],
          "name": "stdout"
        }
      ]
    },
    {
      "cell_type": "code",
      "metadata": {
        "id": "NJCyOjG4kICO",
        "colab": {
          "base_uri": "https://localhost:8080/"
        },
        "outputId": "7bbea003-d452-4392-dd80-c02b98e2076d"
      },
      "source": [
        "shallow_costs = []\r\n",
        "for epoch in range(training_epochs):\r\n",
        "    avg_cost = 0\r\n",
        "\r\n",
        "    for X, Y in data_loader: # 미니 배치 단위로 꺼내온다. X는 미니 배치, Y는 레이블.\r\n",
        "        # image is already size of (28x28), no reshape\r\n",
        "        # label is not one-hot encoded\r\n",
        "        X = X.to(device)\r\n",
        "        Y = Y.to(device)\r\n",
        "\r\n",
        "        optimizer.zero_grad()\r\n",
        "        hypothesis = shallow_model(X)\r\n",
        "        cost = criterion(hypothesis, Y)\r\n",
        "        cost.backward()\r\n",
        "        optimizer.step()\r\n",
        "\r\n",
        "        avg_cost += cost / total_batch\r\n",
        "    shallow_costs.append(avg_cost)\r\n",
        "    if epoch%10==0:\r\n",
        "        print('[Epoch: {:>4}] cost = {:>.9}'.format(epoch + 1, avg_cost))"
      ],
      "execution_count": 13,
      "outputs": [
        {
          "output_type": "stream",
          "text": [
            "[Epoch:    1] cost = 1.86805093\n",
            "[Epoch:   11] cost = 0.605716646\n",
            "[Epoch:   21] cost = 0.162683681\n",
            "[Epoch:   31] cost = 0.0625224337\n",
            "[Epoch:   41] cost = 0.0573107488\n"
          ],
          "name": "stdout"
        }
      ]
    },
    {
      "cell_type": "code",
      "metadata": {
        "id": "8Nh723OhkH3v"
      },
      "source": [
        "criterion = torch.nn.CrossEntropyLoss().to(device)    # 비용 함수에 소프트맥스 함수 포함되어져 있음.\r\n",
        "optimizer = torch.optim.Adam(deep_model.parameters(), lr=learning_rate)"
      ],
      "execution_count": 14,
      "outputs": []
    },
    {
      "cell_type": "code",
      "metadata": {
        "id": "G3vWY48imYXe",
        "colab": {
          "base_uri": "https://localhost:8080/"
        },
        "outputId": "53d178a6-6393-4407-91fd-e7e7d1e2293d"
      },
      "source": [
        "deep_costs = []\r\n",
        "for epoch in range(training_epochs):\r\n",
        "    avg_cost = 0\r\n",
        "\r\n",
        "    for X, Y in data_loader: # 미니 배치 단위로 꺼내온다. X는 미니 배치, Y는 레이블.\r\n",
        "        # image is already size of (28x28), no reshape\r\n",
        "        # label is not one-hot encoded\r\n",
        "        X = X.to(device)\r\n",
        "        Y = Y.to(device)\r\n",
        "\r\n",
        "        optimizer.zero_grad()\r\n",
        "        hypothesis = deep_model(X)\r\n",
        "        cost = criterion(hypothesis, Y)\r\n",
        "        cost.backward()\r\n",
        "        optimizer.step()\r\n",
        "\r\n",
        "        avg_cost += cost / total_batch\r\n",
        "    deep_costs.append(avg_cost)\r\n",
        "    if epoch%10==0:\r\n",
        "        print('[Epoch: {:>4}] cost = {:>.9}'.format(epoch + 1, avg_cost))"
      ],
      "execution_count": 15,
      "outputs": [
        {
          "output_type": "stream",
          "text": [
            "[Epoch:    1] cost = 2.20142794\n",
            "[Epoch:   11] cost = 0.745410621\n",
            "[Epoch:   21] cost = 0.302573532\n",
            "[Epoch:   31] cost = 0.115973905\n",
            "[Epoch:   41] cost = 0.0795913562\n"
          ],
          "name": "stdout"
        }
      ]
    },
    {
      "cell_type": "code",
      "metadata": {
        "id": "OugXIsUamZmd",
        "colab": {
          "base_uri": "https://localhost:8080/",
          "height": 264
        },
        "outputId": "c28a6f6c-95e0-4fe2-f178-4be5cea453c1"
      },
      "source": [
        "import matplotlib.pyplot as plt\r\n",
        "\r\n",
        "plt.plot(shallow_costs, label = \"shallow model\",c='r')\r\n",
        "plt.plot(deep_costs, label = \"deep model\",c='b')\r\n",
        "plt.legend()\r\n",
        "plt.show()"
      ],
      "execution_count": 16,
      "outputs": [
        {
          "output_type": "display_data",
          "data": {
            "image/png": "[encoded data removed]",
            "text/plain": [
              "<Figure size 432x288 with 1 Axes>"
            ]
          },
          "metadata": {
            "tags": [],
            "needs_background": "light"
          }
        }
      ]
    },
    {
      "cell_type": "code",
      "metadata": {
        "id": "wtPzIjKZmbMI"
      },
      "source": [
        "def conv3x3(in_channels, out_channels, stride=1):\r\n",
        "  return torch.nn.Conv2d(in_channels, out_channels, kernel_size=3, stride = stride, padding=1, bias=False)\r\n",
        "\r\n",
        "#Residual Block\r\n",
        "class ResidualBlock(nn.Module):\r\n",
        "  def __init__(self, in_channels, out_channels, stride=1, downsample=None):\r\n",
        "    super(ResidualBlock, self).__init__()\r\n",
        "    self.conv1 = conv3x3(in_channels, out_channels, stride)\r\n",
        "    self.bn1 = nn.BatchNorm2d(out_channels)\r\n",
        "    self.relu = nn.ReLU(inplace=True)\r\n",
        "    self.conv2 = conv3x3(out_channels, out_channels)\r\n",
        "    self.bn2 = nn.BatchNorm2d(out_channels)\r\n",
        "    self.downsample = downsample\r\n",
        "\r\n",
        "  def forward(self, x):\r\n",
        "    residual = x\r\n",
        "    out = self.conv1(x)\r\n",
        "    out = self.bn1(out)\r\n",
        "    out = self.relu(out)\r\n",
        "    out = self.conv2(out)\r\n",
        "    out = self.bn2(out)\r\n",
        "    if self.downsample:\r\n",
        "      residual = self.downsample(x)\r\n",
        "    out += residual\r\n",
        "    out = self.relu(out)\r\n",
        "    return out\r\n",
        "  \r\n",
        "# ResNet\r\n",
        "class ResNet(torch.nn.Module):\r\n",
        "    def __init__(self, block, layers, num_classes=10):\r\n",
        "        super(ResNet, self).__init__()\r\n",
        "        self.in_channels = 16\r\n",
        "        self.conv = conv3x3(3, 16)\r\n",
        "        self.bn = torch.nn.BatchNorm2d(16)\r\n",
        "        self.relu = torch.nn.ReLU(inplace=True)\r\n",
        "        self.layer1 = self.make_layer(block, 16, layers[0])\r\n",
        "        self.layer2 = self.make_layer(block, 32, layers[1], 2)\r\n",
        "        self.layer3 = self.make_layer(block, 64, layers[2], 2)\r\n",
        "        self.avg_pool = torch.nn.AvgPool2d(8)\r\n",
        "        self.fc = torch.nn.Linear(64, num_classes)\r\n",
        "        \r\n",
        "    def make_layer(self, block, out_channels, blocks, stride=1):\r\n",
        "        downsample = None\r\n",
        "        if (stride != 1) or (self.in_channels != out_channels):\r\n",
        "            downsample = torch.nn.Sequential(\r\n",
        "                conv3x3(self.in_channels, out_channels, stride=stride),\r\n",
        "                torch.nn.BatchNorm2d(out_channels))\r\n",
        "        layers = []\r\n",
        "        layers.append(block(self.in_channels, out_channels, stride, downsample))\r\n",
        "        self.in_channels = out_channels\r\n",
        "        for i in range(1, blocks):\r\n",
        "            layers.append(block(out_channels, out_channels))\r\n",
        "        return torch.nn.Sequential(*layers)\r\n",
        "    \r\n",
        "    def forward(self, x):\r\n",
        "        out = self.conv(x)\r\n",
        "        out = self.bn(out)\r\n",
        "        out = self.relu(out)\r\n",
        "        out = self.layer1(out)\r\n",
        "        out = self.layer2(out)\r\n",
        "        out = self.layer3(out)\r\n",
        "        out = self.avg_pool(out)\r\n",
        "        out = out.view(out.size(0), -1)\r\n",
        "        out = self.fc(out)\r\n",
        "        return out"
      ],
      "execution_count": 23,
      "outputs": []
    },
    {
      "cell_type": "code",
      "metadata": {
        "id": "RpTbhSfPO9mh"
      },
      "source": [
        "model = ResNet(ResidualBlock, [2, 2, 2]).to(device)\r\n",
        "# Loss and optimizer\r\n",
        "criterion = torch.nn.CrossEntropyLoss()\r\n",
        "optimizer = torch.optim.Adam(model.parameters(), lr=learning_rate)"
      ],
      "execution_count": 24,
      "outputs": []
    },
    {
      "cell_type": "code",
      "metadata": {
        "id": "myJw9ATWO9kO",
        "outputId": "e128f579-c8e7-4834-e1c7-b8a1c9be832b",
        "colab": {
          "base_uri": "https://localhost:8080/"
        }
      },
      "source": [
        "resnet_costs = []\r\n",
        "for epoch in range(training_epochs):\r\n",
        "    avg_cost = 0\r\n",
        "\r\n",
        "    for X, Y in data_loader: # 미니 배치 단위로 꺼내온다. X는 미니 배치, Y는 레이블.\r\n",
        "        # image is already size of (28x28), no reshape\r\n",
        "        # label is not one-hot encoded\r\n",
        "        X = X.to(device)\r\n",
        "        Y = Y.to(device)\r\n",
        "\r\n",
        "        optimizer.zero_grad()\r\n",
        "        hypothesis = model(X)\r\n",
        "        cost = criterion(hypothesis, Y)\r\n",
        "        cost.backward()\r\n",
        "        optimizer.step()\r\n",
        "\r\n",
        "        avg_cost += cost / total_batch\r\n",
        "    resnet_costs.append(avg_cost)\r\n",
        "    if epoch%5==0:\r\n",
        "        print('[Epoch: {:>4}] cost = {:>.9}'.format(epoch + 1, avg_cost))"
      ],
      "execution_count": 25,
      "outputs": [
        {
          "output_type": "stream",
          "text": [
            "[Epoch:    1] cost = 1.49122405\n",
            "[Epoch:    6] cost = 0.636931717\n",
            "[Epoch:   11] cost = 0.397835225\n",
            "[Epoch:   16] cost = 0.229356036\n",
            "[Epoch:   21] cost = 0.126574591\n",
            "[Epoch:   26] cost = 0.0879853442\n",
            "[Epoch:   31] cost = 0.063843362\n",
            "[Epoch:   36] cost = 0.0522136614\n",
            "[Epoch:   41] cost = 0.0620435514\n",
            "[Epoch:   46] cost = 0.0456955358\n"
          ],
          "name": "stdout"
        }
      ]
    },
    {
      "cell_type": "code",
      "metadata": {
        "id": "ZhTDW6cfO9h3"
      },
      "source": [
        ""
      ],
      "execution_count": null,
      "outputs": []
    }
  ]
}