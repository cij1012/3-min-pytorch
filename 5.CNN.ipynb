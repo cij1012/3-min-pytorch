{
  "nbformat": 4,
  "nbformat_minor": 0,
  "metadata": {
    "colab": {
      "name": "Untitled28.ipynb",
      "provenance": [],
      "authorship_tag": "ABX9TyPtj9ZqBbXnjoBsRKv6QbpN",
      "include_colab_link": true
    },
    "kernelspec": {
      "display_name": "Python 3",
      "name": "python3"
    }
  },
  "cells": [
    {
      "cell_type": "markdown",
      "metadata": {
        "id": "view-in-github",
        "colab_type": "text"
      },
      "source": [
        "<a href=\"https://colab.research.google.com/github/cij1012/3-min-pytorch/blob/main/5.CNN.ipynb\" target=\"_parent\"><img src=\"https://colab.research.google.com/assets/colab-badge.svg\" alt=\"Open In Colab\"/></a>"
      ]
    },
    {
      "cell_type": "code",
      "metadata": {
        "id": "37h0gWYZ1aXU"
      },
      "source": [
        "import torch\r\n",
        "import torch.nn as nn\r\n",
        "import torch.optim as optim\r\n",
        "import torch.nn.functional as F\r\n",
        "from torchvision import transforms, datasets"
      ],
      "execution_count": null,
      "outputs": []
    },
    {
      "cell_type": "code",
      "metadata": {
        "id": "VDpmGCNg5Nca"
      },
      "source": [
        "USE_CUDA = torch.cuda.is_available()\r\n",
        "DEVICE = torch.device(\"cuda\" if USE_CUDA else \"cpu\")"
      ],
      "execution_count": null,
      "outputs": []
    },
    {
      "cell_type": "code",
      "metadata": {
        "id": "sRQy70uf5QhR"
      },
      "source": [
        "Epochs     = 40\r\n",
        "Batch_size = 64"
      ],
      "execution_count": null,
      "outputs": []
    },
    {
      "cell_type": "code",
      "metadata": {
        "id": "SKMxcsNX5UQD"
      },
      "source": [
        "train_loader = torch.utils.data.DataLoader(\r\n",
        "    datasets.MNIST('./.data',\r\n",
        "                   train=True,\r\n",
        "                   download=True,\r\n",
        "                   transform=transforms.Compose([\r\n",
        "                       transforms.ToTensor(),\r\n",
        "                       transforms.Normalize((0.1307,), (0.3081,))\r\n",
        "                   ])),\r\n",
        "    batch_size=Batch_size, shuffle=True)\r\n",
        "test_loader = torch.utils.data.DataLoader(\r\n",
        "    datasets.MNIST('./.data',\r\n",
        "                   train=False, \r\n",
        "                   transform=transforms.Compose([\r\n",
        "                       transforms.ToTensor(),\r\n",
        "                       transforms.Normalize((0.1307,), (0.3081,))\r\n",
        "                   ])),\r\n",
        "    batch_size=Batch_size, shuffle=True)"
      ],
      "execution_count": null,
      "outputs": []
    },
    {
      "cell_type": "code",
      "metadata": {
        "colab": {
          "base_uri": "https://localhost:8080/"
        },
        "id": "_vKAiw8l7_Bx",
        "outputId": "9b1efd39-b1d0-454b-ca1b-5dd0e147482e"
      },
      "source": [
        "conv1 = nn.Conv2d(1, 10, kernel_size=5)\r\n",
        "print(conv1)"
      ],
      "execution_count": null,
      "outputs": [
        {
          "output_type": "stream",
          "text": [
            "Conv2d(1, 10, kernel_size=(5, 5), stride=(1, 1))\n"
          ],
          "name": "stdout"
        }
      ]
    },
    {
      "cell_type": "code",
      "metadata": {
        "id": "NAboxtGO5Z0p"
      },
      "source": [
        "class Net(nn.Module):\r\n",
        "  def __init__(self):\r\n",
        "    super(Net,self).__init__()\r\n",
        "    self.conv1 = nn.Conv2d(1, 10, kernel_size=5) # 커널사이즈 5*5, 스트라이드 1*1 패딩 x?\r\n",
        "    self.conv2 = nn.Conv2d(10, 20 ,kernel_size=5)\r\n",
        "    self.conv2_drop = nn.Dropout2d()\r\n",
        "    self.fc1 = nn.Linear(320, 50)\r\n",
        "    self.fc2 = nn.Linear(50,10)\r\n",
        "\r\n",
        "  def forward(self, x):\r\n",
        "    x = F.relu(F.max_pool2d(self.conv1(x),2))\r\n",
        "    x = F.relu(F.max_pool2d(self.conv2_drop(self.conv2(x)),2))\r\n",
        "    x = x.view(-1,320)\r\n",
        "    x = F.relu(self.fc1(x))\r\n",
        "    x = F.dropout(x, training=self.training)\r\n",
        "    x = self.fc2(x)\r\n",
        "    return x"
      ],
      "execution_count": null,
      "outputs": []
    },
    {
      "cell_type": "code",
      "metadata": {
        "id": "g6V1Nn67LZbJ"
      },
      "source": [
        "model = Net().to(DEVICE)\r\n",
        "optimizer = optim.SGD(model.parameters(), lr=0.01, momentum=0.5)"
      ],
      "execution_count": null,
      "outputs": []
    },
    {
      "cell_type": "code",
      "metadata": {
        "id": "GavkD1lELxgo"
      },
      "source": [
        "def train(model, train_loader, optimizer, epoch):\r\n",
        "    model.train()\r\n",
        "    for batch_idx, (data, target) in enumerate(train_loader):\r\n",
        "        data, target = data.to(DEVICE), target.to(DEVICE)\r\n",
        "        optimizer.zero_grad()\r\n",
        "        output = model(data)\r\n",
        "        loss = F.cross_entropy(output, target)\r\n",
        "        loss.backward()\r\n",
        "        optimizer.step()\r\n",
        "\r\n",
        "        if batch_idx % 200 == 0:\r\n",
        "            print('Train Epoch: {} [{}/{} ({:.0f}%)]\\tLoss: {:.6f}'.format(\r\n",
        "                epoch, batch_idx * len(data), len(train_loader.dataset),\r\n",
        "                100. * batch_idx / len(train_loader), loss.item()))"
      ],
      "execution_count": null,
      "outputs": []
    },
    {
      "cell_type": "code",
      "metadata": {
        "id": "WiYtV4m6LiqQ"
      },
      "source": [
        "def evaluate(model, test_loader):\r\n",
        "    model.eval()\r\n",
        "    test_loss = 0\r\n",
        "    correct = 0\r\n",
        "    with torch.no_grad():\r\n",
        "        for data, target in test_loader:\r\n",
        "            data, target = data.to(DEVICE), target.to(DEVICE)\r\n",
        "            output = model(data)\r\n",
        "\r\n",
        "            # 배치 오차를 합산\r\n",
        "            test_loss += F.cross_entropy(output, target,\r\n",
        "                                         reduction='sum').item()\r\n",
        "\r\n",
        "            # 가장 높은 값을 가진 인덱스가 바로 예측값\r\n",
        "            pred = output.max(1, keepdim=True)[1]\r\n",
        "            correct += pred.eq(target.view_as(pred)).sum().item()\r\n",
        "\r\n",
        "    test_loss /= len(test_loader.dataset)\r\n",
        "    test_accuracy = 100. * correct / len(test_loader.dataset)\r\n",
        "    return test_loss, test_accuracy"
      ],
      "execution_count": null,
      "outputs": []
    },
    {
      "cell_type": "code",
      "metadata": {
        "colab": {
          "background_save": true,
          "base_uri": "https://localhost:8080/"
        },
        "id": "to_Xzb3pLpaW",
        "outputId": "7a7a07da-4316-458d-8a48-96c6bc53de7c"
      },
      "source": [
        "for epoch in range(1, Epochs + 1):\r\n",
        "    train(model, train_loader, optimizer, epoch)\r\n",
        "    test_loss, test_accuracy = evaluate(model, test_loader)\r\n",
        "    \r\n",
        "    print('[{}] Test Loss: {:.4f}, Accuracy: {:.2f}%'.format(\r\n",
        "          epoch, test_loss, test_accuracy))"
      ],
      "execution_count": null,
      "outputs": [
        {
          "output_type": "stream",
          "text": [
            "Train Epoch: 1 [0/60000 (0%)]\tLoss: 2.322672\n",
            "Train Epoch: 1 [12800/60000 (21%)]\tLoss: 1.107653\n",
            "Train Epoch: 1 [25600/60000 (43%)]\tLoss: 1.247984\n",
            "Train Epoch: 1 [38400/60000 (64%)]\tLoss: 0.591630\n",
            "Train Epoch: 1 [51200/60000 (85%)]\tLoss: 0.339223\n",
            "[1] Test Loss: 0.2038, Accuracy: 94.05%\n",
            "Train Epoch: 2 [0/60000 (0%)]\tLoss: 0.522009\n",
            "Train Epoch: 2 [12800/60000 (21%)]\tLoss: 0.334599\n",
            "Train Epoch: 2 [25600/60000 (43%)]\tLoss: 0.351840\n",
            "Train Epoch: 2 [38400/60000 (64%)]\tLoss: 0.349038\n",
            "Train Epoch: 2 [51200/60000 (85%)]\tLoss: 0.423551\n",
            "[2] Test Loss: 0.1254, Accuracy: 95.91%\n",
            "Train Epoch: 3 [0/60000 (0%)]\tLoss: 0.450545\n",
            "Train Epoch: 3 [12800/60000 (21%)]\tLoss: 0.307412\n",
            "Train Epoch: 3 [25600/60000 (43%)]\tLoss: 0.358901\n",
            "Train Epoch: 3 [38400/60000 (64%)]\tLoss: 0.205298\n",
            "Train Epoch: 3 [51200/60000 (85%)]\tLoss: 0.365749\n",
            "[3] Test Loss: 0.0981, Accuracy: 97.02%\n",
            "Train Epoch: 4 [0/60000 (0%)]\tLoss: 0.341764\n",
            "Train Epoch: 4 [12800/60000 (21%)]\tLoss: 0.259584\n",
            "Train Epoch: 4 [25600/60000 (43%)]\tLoss: 0.160615\n",
            "Train Epoch: 4 [38400/60000 (64%)]\tLoss: 0.211632\n",
            "Train Epoch: 4 [51200/60000 (85%)]\tLoss: 0.150001\n",
            "[4] Test Loss: 0.0808, Accuracy: 97.32%\n",
            "Train Epoch: 5 [0/60000 (0%)]\tLoss: 0.169529\n",
            "Train Epoch: 5 [12800/60000 (21%)]\tLoss: 0.382059\n",
            "Train Epoch: 5 [25600/60000 (43%)]\tLoss: 0.219791\n",
            "Train Epoch: 5 [38400/60000 (64%)]\tLoss: 0.370580\n",
            "Train Epoch: 5 [51200/60000 (85%)]\tLoss: 0.224708\n",
            "[5] Test Loss: 0.0692, Accuracy: 97.81%\n",
            "Train Epoch: 6 [0/60000 (0%)]\tLoss: 0.191050\n",
            "Train Epoch: 6 [12800/60000 (21%)]\tLoss: 0.148889\n",
            "Train Epoch: 6 [25600/60000 (43%)]\tLoss: 0.455509\n",
            "Train Epoch: 6 [38400/60000 (64%)]\tLoss: 0.202531\n",
            "Train Epoch: 6 [51200/60000 (85%)]\tLoss: 0.112065\n",
            "[6] Test Loss: 0.0630, Accuracy: 97.90%\n",
            "Train Epoch: 7 [0/60000 (0%)]\tLoss: 0.112641\n",
            "Train Epoch: 7 [12800/60000 (21%)]\tLoss: 0.102311\n",
            "Train Epoch: 7 [25600/60000 (43%)]\tLoss: 0.220928\n",
            "Train Epoch: 7 [38400/60000 (64%)]\tLoss: 0.351341\n",
            "Train Epoch: 7 [51200/60000 (85%)]\tLoss: 0.217419\n",
            "[7] Test Loss: 0.0583, Accuracy: 98.15%\n",
            "Train Epoch: 8 [0/60000 (0%)]\tLoss: 0.212994\n",
            "Train Epoch: 8 [12800/60000 (21%)]\tLoss: 0.127747\n",
            "Train Epoch: 8 [25600/60000 (43%)]\tLoss: 0.105168\n",
            "Train Epoch: 8 [38400/60000 (64%)]\tLoss: 0.054791\n",
            "Train Epoch: 8 [51200/60000 (85%)]\tLoss: 0.197080\n",
            "[8] Test Loss: 0.0518, Accuracy: 98.25%\n",
            "Train Epoch: 9 [0/60000 (0%)]\tLoss: 0.319747\n",
            "Train Epoch: 9 [12800/60000 (21%)]\tLoss: 0.117827\n",
            "Train Epoch: 9 [25600/60000 (43%)]\tLoss: 0.161668\n",
            "Train Epoch: 9 [38400/60000 (64%)]\tLoss: 0.119059\n",
            "Train Epoch: 9 [51200/60000 (85%)]\tLoss: 0.389023\n",
            "[9] Test Loss: 0.0518, Accuracy: 98.19%\n",
            "Train Epoch: 10 [0/60000 (0%)]\tLoss: 0.222279\n",
            "Train Epoch: 10 [12800/60000 (21%)]\tLoss: 0.149151\n",
            "Train Epoch: 10 [25600/60000 (43%)]\tLoss: 0.148954\n",
            "Train Epoch: 10 [38400/60000 (64%)]\tLoss: 0.320178\n",
            "Train Epoch: 10 [51200/60000 (85%)]\tLoss: 0.142291\n",
            "[10] Test Loss: 0.0468, Accuracy: 98.43%\n",
            "Train Epoch: 11 [0/60000 (0%)]\tLoss: 0.095428\n",
            "Train Epoch: 11 [12800/60000 (21%)]\tLoss: 0.099593\n",
            "Train Epoch: 11 [25600/60000 (43%)]\tLoss: 0.183933\n",
            "Train Epoch: 11 [38400/60000 (64%)]\tLoss: 0.054155\n",
            "Train Epoch: 11 [51200/60000 (85%)]\tLoss: 0.132189\n",
            "[11] Test Loss: 0.0478, Accuracy: 98.47%\n",
            "Train Epoch: 12 [0/60000 (0%)]\tLoss: 0.069729\n",
            "Train Epoch: 12 [12800/60000 (21%)]\tLoss: 0.189781\n",
            "Train Epoch: 12 [25600/60000 (43%)]\tLoss: 0.158444\n",
            "Train Epoch: 12 [38400/60000 (64%)]\tLoss: 0.148610\n",
            "Train Epoch: 12 [51200/60000 (85%)]\tLoss: 0.128342\n",
            "[12] Test Loss: 0.0449, Accuracy: 98.56%\n",
            "Train Epoch: 13 [0/60000 (0%)]\tLoss: 0.109435\n",
            "Train Epoch: 13 [12800/60000 (21%)]\tLoss: 0.066169\n",
            "Train Epoch: 13 [25600/60000 (43%)]\tLoss: 0.146092\n",
            "Train Epoch: 13 [38400/60000 (64%)]\tLoss: 0.170322\n",
            "Train Epoch: 13 [51200/60000 (85%)]\tLoss: 0.233180\n",
            "[13] Test Loss: 0.0432, Accuracy: 98.60%\n",
            "Train Epoch: 14 [0/60000 (0%)]\tLoss: 0.061195\n",
            "Train Epoch: 14 [12800/60000 (21%)]\tLoss: 0.147869\n",
            "Train Epoch: 14 [25600/60000 (43%)]\tLoss: 0.058468\n",
            "Train Epoch: 14 [38400/60000 (64%)]\tLoss: 0.135290\n",
            "Train Epoch: 14 [51200/60000 (85%)]\tLoss: 0.278277\n",
            "[14] Test Loss: 0.0418, Accuracy: 98.68%\n",
            "Train Epoch: 15 [0/60000 (0%)]\tLoss: 0.156303\n",
            "Train Epoch: 15 [12800/60000 (21%)]\tLoss: 0.161843\n",
            "Train Epoch: 15 [25600/60000 (43%)]\tLoss: 0.181566\n",
            "Train Epoch: 15 [38400/60000 (64%)]\tLoss: 0.120257\n",
            "Train Epoch: 15 [51200/60000 (85%)]\tLoss: 0.080558\n",
            "[15] Test Loss: 0.0387, Accuracy: 98.76%\n",
            "Train Epoch: 16 [0/60000 (0%)]\tLoss: 0.093849\n",
            "Train Epoch: 16 [12800/60000 (21%)]\tLoss: 0.098507\n",
            "Train Epoch: 16 [25600/60000 (43%)]\tLoss: 0.058619\n",
            "Train Epoch: 16 [38400/60000 (64%)]\tLoss: 0.137265\n",
            "Train Epoch: 16 [51200/60000 (85%)]\tLoss: 0.058306\n",
            "[16] Test Loss: 0.0408, Accuracy: 98.69%\n",
            "Train Epoch: 17 [0/60000 (0%)]\tLoss: 0.115515\n",
            "Train Epoch: 17 [12800/60000 (21%)]\tLoss: 0.213218\n",
            "Train Epoch: 17 [25600/60000 (43%)]\tLoss: 0.300941\n",
            "Train Epoch: 17 [38400/60000 (64%)]\tLoss: 0.050466\n",
            "Train Epoch: 17 [51200/60000 (85%)]\tLoss: 0.157563\n",
            "[17] Test Loss: 0.0363, Accuracy: 98.83%\n",
            "Train Epoch: 18 [0/60000 (0%)]\tLoss: 0.082297\n",
            "Train Epoch: 18 [12800/60000 (21%)]\tLoss: 0.116920\n",
            "Train Epoch: 18 [25600/60000 (43%)]\tLoss: 0.076099\n",
            "Train Epoch: 18 [38400/60000 (64%)]\tLoss: 0.145512\n",
            "Train Epoch: 18 [51200/60000 (85%)]\tLoss: 0.063513\n",
            "[18] Test Loss: 0.0414, Accuracy: 98.57%\n",
            "Train Epoch: 19 [0/60000 (0%)]\tLoss: 0.172391\n",
            "Train Epoch: 19 [12800/60000 (21%)]\tLoss: 0.116465\n",
            "Train Epoch: 19 [25600/60000 (43%)]\tLoss: 0.088036\n",
            "Train Epoch: 19 [38400/60000 (64%)]\tLoss: 0.079065\n",
            "Train Epoch: 19 [51200/60000 (85%)]\tLoss: 0.136183\n",
            "[19] Test Loss: 0.0386, Accuracy: 98.82%\n",
            "Train Epoch: 20 [0/60000 (0%)]\tLoss: 0.036165\n",
            "Train Epoch: 20 [12800/60000 (21%)]\tLoss: 0.073864\n",
            "Train Epoch: 20 [25600/60000 (43%)]\tLoss: 0.051806\n",
            "Train Epoch: 20 [38400/60000 (64%)]\tLoss: 0.050369\n",
            "Train Epoch: 20 [51200/60000 (85%)]\tLoss: 0.119732\n",
            "[20] Test Loss: 0.0372, Accuracy: 98.86%\n",
            "Train Epoch: 21 [0/60000 (0%)]\tLoss: 0.090798\n",
            "Train Epoch: 21 [12800/60000 (21%)]\tLoss: 0.056415\n",
            "Train Epoch: 21 [25600/60000 (43%)]\tLoss: 0.102348\n",
            "Train Epoch: 21 [38400/60000 (64%)]\tLoss: 0.136329\n",
            "Train Epoch: 21 [51200/60000 (85%)]\tLoss: 0.021297\n",
            "[21] Test Loss: 0.0361, Accuracy: 98.83%\n",
            "Train Epoch: 22 [0/60000 (0%)]\tLoss: 0.068973\n",
            "Train Epoch: 22 [12800/60000 (21%)]\tLoss: 0.083007\n",
            "Train Epoch: 22 [25600/60000 (43%)]\tLoss: 0.158100\n",
            "Train Epoch: 22 [38400/60000 (64%)]\tLoss: 0.198067\n",
            "Train Epoch: 22 [51200/60000 (85%)]\tLoss: 0.096292\n",
            "[22] Test Loss: 0.0343, Accuracy: 98.90%\n",
            "Train Epoch: 23 [0/60000 (0%)]\tLoss: 0.164912\n",
            "Train Epoch: 23 [12800/60000 (21%)]\tLoss: 0.100323\n",
            "Train Epoch: 23 [25600/60000 (43%)]\tLoss: 0.196571\n",
            "Train Epoch: 23 [38400/60000 (64%)]\tLoss: 0.028280\n",
            "Train Epoch: 23 [51200/60000 (85%)]\tLoss: 0.101377\n",
            "[23] Test Loss: 0.0367, Accuracy: 98.87%\n",
            "Train Epoch: 24 [0/60000 (0%)]\tLoss: 0.188186\n",
            "Train Epoch: 24 [12800/60000 (21%)]\tLoss: 0.089244\n",
            "Train Epoch: 24 [25600/60000 (43%)]\tLoss: 0.020071\n",
            "Train Epoch: 24 [38400/60000 (64%)]\tLoss: 0.282382\n",
            "Train Epoch: 24 [51200/60000 (85%)]\tLoss: 0.051458\n",
            "[24] Test Loss: 0.0341, Accuracy: 98.89%\n",
            "Train Epoch: 25 [0/60000 (0%)]\tLoss: 0.109338\n",
            "Train Epoch: 25 [12800/60000 (21%)]\tLoss: 0.259535\n",
            "Train Epoch: 25 [25600/60000 (43%)]\tLoss: 0.055714\n",
            "Train Epoch: 25 [38400/60000 (64%)]\tLoss: 0.065487\n",
            "Train Epoch: 25 [51200/60000 (85%)]\tLoss: 0.044219\n",
            "[25] Test Loss: 0.0346, Accuracy: 98.86%\n",
            "Train Epoch: 26 [0/60000 (0%)]\tLoss: 0.143793\n",
            "Train Epoch: 26 [12800/60000 (21%)]\tLoss: 0.227967\n",
            "Train Epoch: 26 [25600/60000 (43%)]\tLoss: 0.112554\n",
            "Train Epoch: 26 [38400/60000 (64%)]\tLoss: 0.133704\n",
            "Train Epoch: 26 [51200/60000 (85%)]\tLoss: 0.132507\n",
            "[26] Test Loss: 0.0326, Accuracy: 98.95%\n",
            "Train Epoch: 27 [0/60000 (0%)]\tLoss: 0.065412\n",
            "Train Epoch: 27 [12800/60000 (21%)]\tLoss: 0.215220\n",
            "Train Epoch: 27 [25600/60000 (43%)]\tLoss: 0.071383\n",
            "Train Epoch: 27 [38400/60000 (64%)]\tLoss: 0.132486\n",
            "Train Epoch: 27 [51200/60000 (85%)]\tLoss: 0.084546\n",
            "[27] Test Loss: 0.0381, Accuracy: 98.81%\n",
            "Train Epoch: 28 [0/60000 (0%)]\tLoss: 0.119520\n",
            "Train Epoch: 28 [12800/60000 (21%)]\tLoss: 0.041942\n",
            "Train Epoch: 28 [25600/60000 (43%)]\tLoss: 0.143001\n",
            "Train Epoch: 28 [38400/60000 (64%)]\tLoss: 0.186888\n",
            "Train Epoch: 28 [51200/60000 (85%)]\tLoss: 0.270386\n",
            "[28] Test Loss: 0.0348, Accuracy: 98.84%\n",
            "Train Epoch: 29 [0/60000 (0%)]\tLoss: 0.120745\n",
            "Train Epoch: 29 [12800/60000 (21%)]\tLoss: 0.093630\n",
            "Train Epoch: 29 [25600/60000 (43%)]\tLoss: 0.196385\n",
            "Train Epoch: 29 [38400/60000 (64%)]\tLoss: 0.094788\n",
            "Train Epoch: 29 [51200/60000 (85%)]\tLoss: 0.152982\n",
            "[29] Test Loss: 0.0317, Accuracy: 98.97%\n",
            "Train Epoch: 30 [0/60000 (0%)]\tLoss: 0.025927\n",
            "Train Epoch: 30 [12800/60000 (21%)]\tLoss: 0.110801\n",
            "Train Epoch: 30 [25600/60000 (43%)]\tLoss: 0.094084\n",
            "Train Epoch: 30 [38400/60000 (64%)]\tLoss: 0.118629\n",
            "Train Epoch: 30 [51200/60000 (85%)]\tLoss: 0.077517\n",
            "[30] Test Loss: 0.0339, Accuracy: 98.93%\n",
            "Train Epoch: 31 [0/60000 (0%)]\tLoss: 0.118398\n",
            "Train Epoch: 31 [12800/60000 (21%)]\tLoss: 0.219118\n",
            "Train Epoch: 31 [25600/60000 (43%)]\tLoss: 0.094449\n",
            "Train Epoch: 31 [38400/60000 (64%)]\tLoss: 0.151225\n",
            "Train Epoch: 31 [51200/60000 (85%)]\tLoss: 0.046790\n",
            "[31] Test Loss: 0.0317, Accuracy: 98.99%\n",
            "Train Epoch: 32 [0/60000 (0%)]\tLoss: 0.199097\n",
            "Train Epoch: 32 [12800/60000 (21%)]\tLoss: 0.070291\n",
            "Train Epoch: 32 [25600/60000 (43%)]\tLoss: 0.113779\n",
            "Train Epoch: 32 [38400/60000 (64%)]\tLoss: 0.251238\n",
            "Train Epoch: 32 [51200/60000 (85%)]\tLoss: 0.129795\n",
            "[32] Test Loss: 0.0328, Accuracy: 98.95%\n",
            "Train Epoch: 33 [0/60000 (0%)]\tLoss: 0.020144\n",
            "Train Epoch: 33 [12800/60000 (21%)]\tLoss: 0.077804\n",
            "Train Epoch: 33 [25600/60000 (43%)]\tLoss: 0.084859\n",
            "Train Epoch: 33 [38400/60000 (64%)]\tLoss: 0.136812\n",
            "Train Epoch: 33 [51200/60000 (85%)]\tLoss: 0.109497\n",
            "[33] Test Loss: 0.0335, Accuracy: 98.93%\n",
            "Train Epoch: 34 [0/60000 (0%)]\tLoss: 0.303008\n",
            "Train Epoch: 34 [12800/60000 (21%)]\tLoss: 0.220658\n",
            "Train Epoch: 34 [25600/60000 (43%)]\tLoss: 0.054980\n",
            "Train Epoch: 34 [38400/60000 (64%)]\tLoss: 0.120582\n",
            "Train Epoch: 34 [51200/60000 (85%)]\tLoss: 0.030563\n",
            "[34] Test Loss: 0.0304, Accuracy: 99.00%\n",
            "Train Epoch: 35 [0/60000 (0%)]\tLoss: 0.053424\n",
            "Train Epoch: 35 [12800/60000 (21%)]\tLoss: 0.085886\n",
            "Train Epoch: 35 [25600/60000 (43%)]\tLoss: 0.112322\n",
            "Train Epoch: 35 [38400/60000 (64%)]\tLoss: 0.071474\n",
            "Train Epoch: 35 [51200/60000 (85%)]\tLoss: 0.045158\n",
            "[35] Test Loss: 0.0294, Accuracy: 99.10%\n",
            "Train Epoch: 36 [0/60000 (0%)]\tLoss: 0.140111\n",
            "Train Epoch: 36 [12800/60000 (21%)]\tLoss: 0.062215\n",
            "Train Epoch: 36 [25600/60000 (43%)]\tLoss: 0.071960\n",
            "Train Epoch: 36 [38400/60000 (64%)]\tLoss: 0.013869\n",
            "Train Epoch: 36 [51200/60000 (85%)]\tLoss: 0.056470\n",
            "[36] Test Loss: 0.0284, Accuracy: 99.02%\n",
            "Train Epoch: 37 [0/60000 (0%)]\tLoss: 0.034088\n",
            "Train Epoch: 37 [12800/60000 (21%)]\tLoss: 0.041552\n",
            "Train Epoch: 37 [25600/60000 (43%)]\tLoss: 0.176069\n",
            "Train Epoch: 37 [38400/60000 (64%)]\tLoss: 0.066924\n",
            "Train Epoch: 37 [51200/60000 (85%)]\tLoss: 0.162087\n",
            "[37] Test Loss: 0.0291, Accuracy: 99.04%\n",
            "Train Epoch: 38 [0/60000 (0%)]\tLoss: 0.100671\n",
            "Train Epoch: 38 [12800/60000 (21%)]\tLoss: 0.052382\n",
            "Train Epoch: 38 [25600/60000 (43%)]\tLoss: 0.057113\n",
            "Train Epoch: 38 [38400/60000 (64%)]\tLoss: 0.087350\n",
            "Train Epoch: 38 [51200/60000 (85%)]\tLoss: 0.034346\n",
            "[38] Test Loss: 0.0295, Accuracy: 99.08%\n",
            "Train Epoch: 39 [0/60000 (0%)]\tLoss: 0.050556\n",
            "Train Epoch: 39 [12800/60000 (21%)]\tLoss: 0.044999\n",
            "Train Epoch: 39 [25600/60000 (43%)]\tLoss: 0.027236\n",
            "Train Epoch: 39 [38400/60000 (64%)]\tLoss: 0.079802\n",
            "Train Epoch: 39 [51200/60000 (85%)]\tLoss: 0.056142\n",
            "[39] Test Loss: 0.0281, Accuracy: 99.13%\n",
            "Train Epoch: 40 [0/60000 (0%)]\tLoss: 0.140388\n",
            "Train Epoch: 40 [12800/60000 (21%)]\tLoss: 0.136021\n",
            "Train Epoch: 40 [25600/60000 (43%)]\tLoss: 0.096920\n",
            "Train Epoch: 40 [38400/60000 (64%)]\tLoss: 0.030568\n",
            "Train Epoch: 40 [51200/60000 (85%)]\tLoss: 0.053884\n",
            "[40] Test Loss: 0.0276, Accuracy: 99.13%\n"
          ],
          "name": "stdout"
        }
      ]
    },
    {
      "cell_type": "code",
      "metadata": {
        "id": "7kvPPUw4LrW2"
      },
      "source": [
        ""
      ],
      "execution_count": null,
      "outputs": []
    }
  ]
}