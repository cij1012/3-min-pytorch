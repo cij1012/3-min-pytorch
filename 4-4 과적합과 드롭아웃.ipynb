{
  "nbformat": 4,
  "nbformat_minor": 0,
  "metadata": {
    "colab": {
      "name": "Untitled27.ipynb",
      "provenance": [],
      "authorship_tag": "ABX9TyPyVzs1pXya0nwvAJz7+1OW",
      "include_colab_link": true
    },
    "kernelspec": {
      "name": "python3",
      "display_name": "Python 3"
    }
  },
  "cells": [
    {
      "cell_type": "markdown",
      "metadata": {
        "id": "view-in-github",
        "colab_type": "text"
      },
      "source": [
        "<a href=\"https://colab.research.google.com/github/cij1012/3-min-pytorch/blob/main/4-4%20%EA%B3%BC%EC%A0%81%ED%95%A9%EA%B3%BC%20%EB%93%9C%EB%A1%AD%EC%95%84%EC%9B%83.ipynb\" target=\"_parent\"><img src=\"https://colab.research.google.com/assets/colab-badge.svg\" alt=\"Open In Colab\"/></a>"
      ]
    },
    {
      "cell_type": "code",
      "metadata": {
        "id": "JJKuFjqumtGG"
      },
      "source": [
        "import torch\r\n",
        "import torch.nn as nn\r\n",
        "import torch.optim as optim\r\n",
        "import torch.nn.functional as F\r\n",
        "from torchvision import transforms, datasets"
      ],
      "execution_count": 2,
      "outputs": []
    },
    {
      "cell_type": "code",
      "metadata": {
        "id": "QLlrjUusnjtU"
      },
      "source": [
        "USE_CUDA = torch.cuda.is_available()\r\n",
        "DEVICE = torch.device('cuda' if USE_CUDA else 'cpu')"
      ],
      "execution_count": 3,
      "outputs": []
    },
    {
      "cell_type": "code",
      "metadata": {
        "id": "aBVMsS92nwdb"
      },
      "source": [
        "Epochs = 50\r\n",
        "Batch_size = 64"
      ],
      "execution_count": 4,
      "outputs": []
    },
    {
      "cell_type": "code",
      "metadata": {
        "id": "nT_Q_j9Jnyiz"
      },
      "source": [
        "# 데이터셋에 노이즈 추가하기\r\n",
        "\r\n",
        "train_loader = torch.utils.data.DataLoader(\r\n",
        "    datasets.FashionMNIST('./.data',\r\n",
        "                          train=True,\r\n",
        "                          download=True,\r\n",
        "                   transform=transforms.Compose([\r\n",
        "                       transforms.RandomHorizontalFlip(), # 이미지를 무작위로 수평뒤집기\r\n",
        "                       transforms.ToTensor(),\r\n",
        "                       transforms.Normalize((0.1307,), (0.3081,))\r\n",
        "                   ])),\r\n",
        "                          batch_size = Batch_size, shuffle = True)\r\n",
        "test_loader = torch.utils.data.DataLoader(\r\n",
        "    datasets.FashionMNIST('./.data',\r\n",
        "                   train=False, \r\n",
        "                   transform=transforms.Compose([\r\n",
        "                       transforms.ToTensor(),\r\n",
        "                       transforms.Normalize((0.1307,), (0.3081,))\r\n",
        "                   ])),\r\n",
        "    batch_size=Batch_size, shuffle=True)"
      ],
      "execution_count": 10,
      "outputs": []
    },
    {
      "cell_type": "code",
      "metadata": {
        "id": "eWpXzMMyreBH"
      },
      "source": [
        "# 뉴럴넷으로 FMNIST 학습하기\r\n",
        "\r\n",
        "class Net(nn.Module):\r\n",
        "  def __init__(self, dropout_p=0.2): # dropout_p만큼 날리고 사용\r\n",
        "    super(Net, self).__init__()\r\n",
        "    self.fc1 = nn.Linear(784, 256)\r\n",
        "    self.fc2 = nn.Linear(256, 128)\r\n",
        "    self.fc3 = nn.Linear(128, 10)\r\n",
        "    self.dropout_p = dropout_p\r\n",
        "\r\n",
        "  def forward(self, x): # 각 층마다 dropout 시행\r\n",
        "    x = x.view(-1, 784)\r\n",
        "    x = F.relu(self.fc1(x))\r\n",
        "    x = F.dropout(x, training=self.training,\r\n",
        "                  p=self.dropout_p)\r\n",
        "    x = F.relu(self.fc2(x))\r\n",
        "    x = F.dropout(x, training=self.training,\r\n",
        "                  p=self.dropout_p)\r\n",
        "    x = self.fc3(x)\r\n",
        "    return x"
      ],
      "execution_count": 13,
      "outputs": []
    },
    {
      "cell_type": "code",
      "metadata": {
        "id": "7rj-4K0BxAAE"
      },
      "source": [
        "model = Net(dropout_p=0.2).to(DEVICE)\r\n",
        "optimizer = optim.SGD(model.parameters(), lr=0.01)"
      ],
      "execution_count": 14,
      "outputs": []
    },
    {
      "cell_type": "code",
      "metadata": {
        "id": "4VspLvhaxOai"
      },
      "source": [
        "def train(model, train_loader, optimizer):\r\n",
        "    model.train()\r\n",
        "    for batch_idx, (data, target) in enumerate(train_loader):\r\n",
        "        data, target = data.to(DEVICE), target.to(DEVICE)\r\n",
        "        optimizer.zero_grad()\r\n",
        "        output = model(data)\r\n",
        "        loss = F.cross_entropy(output, target)\r\n",
        "        loss.backward()\r\n",
        "        optimizer.step()"
      ],
      "execution_count": 15,
      "outputs": []
    },
    {
      "cell_type": "code",
      "metadata": {
        "id": "-EAmkt3OxV4O"
      },
      "source": [
        "def evaluate(model, test_loader):\r\n",
        "    model.eval()\r\n",
        "    test_loss = 0\r\n",
        "    correct = 0\r\n",
        "    with torch.no_grad():\r\n",
        "        for data, target in test_loader:\r\n",
        "            data, target = data.to(DEVICE), target.to(DEVICE)\r\n",
        "            output = model(data)\r\n",
        "            test_loss += F.cross_entropy(output, target,\r\n",
        "                                         reduction='sum').item()\r\n",
        "            \r\n",
        "            # 맞춘 갯수 계산\r\n",
        "            pred = output.max(1, keepdim=True)[1]\r\n",
        "            correct += pred.eq(target.view_as(pred)).sum().item()\r\n",
        "\r\n",
        "    test_loss /= len(test_loader.dataset)\r\n",
        "    test_accuracy = 100. * correct / len(test_loader.dataset)\r\n",
        "    return test_loss, test_accuracy"
      ],
      "execution_count": 16,
      "outputs": []
    },
    {
      "cell_type": "code",
      "metadata": {
        "colab": {
          "base_uri": "https://localhost:8080/"
        },
        "id": "kAJEJxLWxViD",
        "outputId": "4ad24536-27f9-4d95-ea01-2af76b407e11"
      },
      "source": [
        "for epoch in range(1, Epochs + 1):\r\n",
        "    train(model, train_loader, optimizer)\r\n",
        "    test_loss, test_accuracy = evaluate(model, test_loader)\r\n",
        "    \r\n",
        "    print('[{}] Test Loss: {:.4f}, Accuracy: {:.2f}%'.format(\r\n",
        "          epoch, test_loss, test_accuracy))"
      ],
      "execution_count": 18,
      "outputs": [
        {
          "output_type": "stream",
          "text": [
            "[1] Test Loss: 0.6488, Accuracy: 77.75%\n",
            "[2] Test Loss: 0.5306, Accuracy: 80.98%\n",
            "[3] Test Loss: 0.4893, Accuracy: 82.55%\n",
            "[4] Test Loss: 0.4593, Accuracy: 83.28%\n",
            "[5] Test Loss: 0.4377, Accuracy: 84.03%\n",
            "[6] Test Loss: 0.4289, Accuracy: 84.55%\n",
            "[7] Test Loss: 0.4118, Accuracy: 85.08%\n",
            "[8] Test Loss: 0.4104, Accuracy: 84.91%\n",
            "[9] Test Loss: 0.4019, Accuracy: 85.70%\n",
            "[10] Test Loss: 0.3923, Accuracy: 85.51%\n",
            "[11] Test Loss: 0.3845, Accuracy: 86.17%\n",
            "[12] Test Loss: 0.3846, Accuracy: 86.23%\n",
            "[13] Test Loss: 0.3731, Accuracy: 86.62%\n",
            "[14] Test Loss: 0.3700, Accuracy: 86.53%\n",
            "[15] Test Loss: 0.3661, Accuracy: 86.80%\n",
            "[16] Test Loss: 0.3640, Accuracy: 86.76%\n",
            "[17] Test Loss: 0.3581, Accuracy: 87.03%\n",
            "[18] Test Loss: 0.3554, Accuracy: 87.02%\n",
            "[19] Test Loss: 0.3509, Accuracy: 87.21%\n",
            "[20] Test Loss: 0.3499, Accuracy: 87.28%\n",
            "[21] Test Loss: 0.3529, Accuracy: 87.22%\n",
            "[22] Test Loss: 0.3464, Accuracy: 87.52%\n",
            "[23] Test Loss: 0.3465, Accuracy: 87.51%\n",
            "[24] Test Loss: 0.3386, Accuracy: 87.62%\n",
            "[25] Test Loss: 0.3390, Accuracy: 87.86%\n",
            "[26] Test Loss: 0.3366, Accuracy: 87.64%\n",
            "[27] Test Loss: 0.3337, Accuracy: 87.82%\n",
            "[28] Test Loss: 0.3356, Accuracy: 87.88%\n",
            "[29] Test Loss: 0.3400, Accuracy: 87.88%\n",
            "[30] Test Loss: 0.3302, Accuracy: 88.12%\n",
            "[31] Test Loss: 0.3433, Accuracy: 87.28%\n",
            "[32] Test Loss: 0.3223, Accuracy: 88.50%\n",
            "[33] Test Loss: 0.3294, Accuracy: 88.33%\n",
            "[34] Test Loss: 0.3247, Accuracy: 88.42%\n",
            "[35] Test Loss: 0.3234, Accuracy: 88.09%\n",
            "[36] Test Loss: 0.3230, Accuracy: 88.53%\n",
            "[37] Test Loss: 0.3196, Accuracy: 88.58%\n",
            "[38] Test Loss: 0.3181, Accuracy: 88.52%\n",
            "[39] Test Loss: 0.3196, Accuracy: 88.53%\n",
            "[40] Test Loss: 0.3199, Accuracy: 88.29%\n",
            "[41] Test Loss: 0.3130, Accuracy: 88.61%\n",
            "[42] Test Loss: 0.3220, Accuracy: 88.34%\n",
            "[43] Test Loss: 0.3169, Accuracy: 88.66%\n",
            "[44] Test Loss: 0.3134, Accuracy: 88.74%\n",
            "[45] Test Loss: 0.3236, Accuracy: 88.55%\n",
            "[46] Test Loss: 0.3134, Accuracy: 88.95%\n",
            "[47] Test Loss: 0.3182, Accuracy: 88.65%\n",
            "[48] Test Loss: 0.3092, Accuracy: 88.90%\n",
            "[49] Test Loss: 0.3095, Accuracy: 88.87%\n",
            "[50] Test Loss: 0.3064, Accuracy: 89.11%\n"
          ],
          "name": "stdout"
        }
      ]
    },
    {
      "cell_type": "code",
      "metadata": {
        "id": "1Ykjm3s2xaj9"
      },
      "source": [
        ""
      ],
      "execution_count": null,
      "outputs": []
    }
  ]
}